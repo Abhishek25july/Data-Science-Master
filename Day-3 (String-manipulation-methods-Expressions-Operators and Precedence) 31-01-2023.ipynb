{
 "cells": [
  {
   "cell_type": "code",
   "execution_count": null,
   "id": "3271ee4e",
   "metadata": {},
   "outputs": [],
   "source": [
    "## Strings"
   ]
  },
  {
   "cell_type": "code",
   "execution_count": 1,
   "id": "527003f9",
   "metadata": {},
   "outputs": [
    {
     "data": {
      "text/plain": [
       "'Welcome to the Data Science Master'"
      ]
     },
     "execution_count": 1,
     "metadata": {},
     "output_type": "execute_result"
    }
   ],
   "source": [
    "\"Welcome to the Data Science Master\""
   ]
  },
  {
   "cell_type": "code",
   "execution_count": 2,
   "id": "44188cc0",
   "metadata": {},
   "outputs": [],
   "source": [
    "str1=\"Welcome to the Data Science Master\""
   ]
  },
  {
   "cell_type": "code",
   "execution_count": 3,
   "id": "ba6bf752",
   "metadata": {},
   "outputs": [
    {
     "data": {
      "text/plain": [
       "str"
      ]
     },
     "execution_count": 3,
     "metadata": {},
     "output_type": "execute_result"
    }
   ],
   "source": [
    "type(str1)"
   ]
  },
  {
   "cell_type": "code",
   "execution_count": 4,
   "id": "dec63714",
   "metadata": {},
   "outputs": [
    {
     "data": {
      "text/plain": [
       "'W'"
      ]
     },
     "execution_count": 4,
     "metadata": {},
     "output_type": "execute_result"
    }
   ],
   "source": [
    "str1[0]"
   ]
  },
  {
   "cell_type": "code",
   "execution_count": 5,
   "id": "ed530438",
   "metadata": {},
   "outputs": [
    {
     "ename": "TypeError",
     "evalue": "'str' object does not support item assignment",
     "output_type": "error",
     "traceback": [
      "\u001b[1;31m---------------------------------------------------------------------------\u001b[0m",
      "\u001b[1;31mTypeError\u001b[0m                                 Traceback (most recent call last)",
      "Input \u001b[1;32mIn [5]\u001b[0m, in \u001b[0;36m<cell line: 2>\u001b[1;34m()\u001b[0m\n\u001b[0;32m      1\u001b[0m \u001b[38;5;66;03m# String are immutable:\u001b[39;00m\n\u001b[1;32m----> 2\u001b[0m str1[\u001b[38;5;241m0\u001b[39m]\u001b[38;5;241m=\u001b[39m\u001b[38;5;241m4\u001b[39m\n",
      "\u001b[1;31mTypeError\u001b[0m: 'str' object does not support item assignment"
     ]
    }
   ],
   "source": [
    "# String are immutable:\n",
    "str1[0]=4"
   ]
  },
  {
   "cell_type": "code",
   "execution_count": 6,
   "id": "7ad398f0",
   "metadata": {},
   "outputs": [],
   "source": [
    "str1=\"Abhishek Tripathi\""
   ]
  },
  {
   "cell_type": "code",
   "execution_count": 7,
   "id": "2c124f9c",
   "metadata": {},
   "outputs": [
    {
     "data": {
      "text/plain": [
       "'Abhishek Tripathi'"
      ]
     },
     "execution_count": 7,
     "metadata": {},
     "output_type": "execute_result"
    }
   ],
   "source": [
    "str1"
   ]
  },
  {
   "cell_type": "code",
   "execution_count": 8,
   "id": "6539b0de",
   "metadata": {},
   "outputs": [
    {
     "data": {
      "text/plain": [
       "['__add__',\n",
       " '__class__',\n",
       " '__contains__',\n",
       " '__delattr__',\n",
       " '__dir__',\n",
       " '__doc__',\n",
       " '__eq__',\n",
       " '__format__',\n",
       " '__ge__',\n",
       " '__getattribute__',\n",
       " '__getitem__',\n",
       " '__getnewargs__',\n",
       " '__gt__',\n",
       " '__hash__',\n",
       " '__init__',\n",
       " '__init_subclass__',\n",
       " '__iter__',\n",
       " '__le__',\n",
       " '__len__',\n",
       " '__lt__',\n",
       " '__mod__',\n",
       " '__mul__',\n",
       " '__ne__',\n",
       " '__new__',\n",
       " '__reduce__',\n",
       " '__reduce_ex__',\n",
       " '__repr__',\n",
       " '__rmod__',\n",
       " '__rmul__',\n",
       " '__setattr__',\n",
       " '__sizeof__',\n",
       " '__str__',\n",
       " '__subclasshook__',\n",
       " 'capitalize',\n",
       " 'casefold',\n",
       " 'center',\n",
       " 'count',\n",
       " 'encode',\n",
       " 'endswith',\n",
       " 'expandtabs',\n",
       " 'find',\n",
       " 'format',\n",
       " 'format_map',\n",
       " 'index',\n",
       " 'isalnum',\n",
       " 'isalpha',\n",
       " 'isascii',\n",
       " 'isdecimal',\n",
       " 'isdigit',\n",
       " 'isidentifier',\n",
       " 'islower',\n",
       " 'isnumeric',\n",
       " 'isprintable',\n",
       " 'isspace',\n",
       " 'istitle',\n",
       " 'isupper',\n",
       " 'join',\n",
       " 'ljust',\n",
       " 'lower',\n",
       " 'lstrip',\n",
       " 'maketrans',\n",
       " 'partition',\n",
       " 'removeprefix',\n",
       " 'removesuffix',\n",
       " 'replace',\n",
       " 'rfind',\n",
       " 'rindex',\n",
       " 'rjust',\n",
       " 'rpartition',\n",
       " 'rsplit',\n",
       " 'rstrip',\n",
       " 'split',\n",
       " 'splitlines',\n",
       " 'startswith',\n",
       " 'strip',\n",
       " 'swapcase',\n",
       " 'title',\n",
       " 'translate',\n",
       " 'upper',\n",
       " 'zfill']"
      ]
     },
     "execution_count": 8,
     "metadata": {},
     "output_type": "execute_result"
    }
   ],
   "source": [
    "# These are inbulit function in strings:\n",
    "dir(str1)"
   ]
  },
  {
   "cell_type": "code",
   "execution_count": 10,
   "id": "35071b29",
   "metadata": {},
   "outputs": [],
   "source": [
    "string=\"Pw Skills Data Science\""
   ]
  },
  {
   "cell_type": "code",
   "execution_count": 11,
   "id": "23154971",
   "metadata": {},
   "outputs": [
    {
     "data": {
      "text/plain": [
       "'i'"
      ]
     },
     "execution_count": 11,
     "metadata": {},
     "output_type": "execute_result"
    }
   ],
   "source": [
    "string[5]"
   ]
  },
  {
   "cell_type": "code",
   "execution_count": 12,
   "id": "70ebb477",
   "metadata": {},
   "outputs": [
    {
     "data": {
      "text/plain": [
       "'ills Data Science'"
      ]
     },
     "execution_count": 12,
     "metadata": {},
     "output_type": "execute_result"
    }
   ],
   "source": [
    "# slice operation:--\n",
    "string[5:]"
   ]
  },
  {
   "cell_type": "code",
   "execution_count": 13,
   "id": "780ea311",
   "metadata": {},
   "outputs": [
    {
     "data": {
      "text/plain": [
       "'ills '"
      ]
     },
     "execution_count": 13,
     "metadata": {},
     "output_type": "execute_result"
    }
   ],
   "source": [
    "string[5:10]"
   ]
  },
  {
   "cell_type": "code",
   "execution_count": 14,
   "id": "2de6a535",
   "metadata": {},
   "outputs": [
    {
     "data": {
      "text/plain": [
       "'e'"
      ]
     },
     "execution_count": 14,
     "metadata": {},
     "output_type": "execute_result"
    }
   ],
   "source": [
    "string[-1]"
   ]
  },
  {
   "cell_type": "code",
   "execution_count": 15,
   "id": "07e4bf98",
   "metadata": {},
   "outputs": [
    {
     "data": {
      "text/plain": [
       "'e'"
      ]
     },
     "execution_count": 15,
     "metadata": {},
     "output_type": "execute_result"
    }
   ],
   "source": [
    "string[-1:]"
   ]
  },
  {
   "cell_type": "code",
   "execution_count": 16,
   "id": "7cd2c8bd",
   "metadata": {},
   "outputs": [
    {
     "data": {
      "text/plain": [
       "'nce'"
      ]
     },
     "execution_count": 16,
     "metadata": {},
     "output_type": "execute_result"
    }
   ],
   "source": [
    "string[-3:]"
   ]
  },
  {
   "cell_type": "code",
   "execution_count": 17,
   "id": "2f1397cc",
   "metadata": {},
   "outputs": [
    {
     "data": {
      "text/plain": [
       "'Science'"
      ]
     },
     "execution_count": 17,
     "metadata": {},
     "output_type": "execute_result"
    }
   ],
   "source": [
    "string[-7:]"
   ]
  },
  {
   "cell_type": "code",
   "execution_count": 18,
   "id": "3e056cfa",
   "metadata": {},
   "outputs": [
    {
     "data": {
      "text/plain": [
       "'Scie'"
      ]
     },
     "execution_count": 18,
     "metadata": {},
     "output_type": "execute_result"
    }
   ],
   "source": [
    "string[-7:-3]"
   ]
  },
  {
   "cell_type": "code",
   "execution_count": 19,
   "id": "42af9a97",
   "metadata": {},
   "outputs": [
    {
     "data": {
      "text/plain": [
       "''"
      ]
     },
     "execution_count": 19,
     "metadata": {},
     "output_type": "execute_result"
    }
   ],
   "source": [
    "string[-7:6]"
   ]
  },
  {
   "cell_type": "code",
   "execution_count": 20,
   "id": "82c47a6d",
   "metadata": {},
   "outputs": [
    {
     "data": {
      "text/plain": [
       "'Pw Skills Data Scienc'"
      ]
     },
     "execution_count": 20,
     "metadata": {},
     "output_type": "execute_result"
    }
   ],
   "source": [
    "string[:-1]"
   ]
  },
  {
   "cell_type": "code",
   "execution_count": 21,
   "id": "17259ffd",
   "metadata": {},
   "outputs": [
    {
     "data": {
      "text/plain": [
       "'Pw Skills Data Science'"
      ]
     },
     "execution_count": 21,
     "metadata": {},
     "output_type": "execute_result"
    }
   ],
   "source": [
    "string[:]"
   ]
  },
  {
   "cell_type": "code",
   "execution_count": 22,
   "id": "791e64da",
   "metadata": {},
   "outputs": [
    {
     "data": {
      "text/plain": [
       "'rt'"
      ]
     },
     "execution_count": 22,
     "metadata": {},
     "output_type": "execute_result"
    }
   ],
   "source": [
    "name=\"Karthik\"\n",
    "name[-5:4]"
   ]
  },
  {
   "cell_type": "code",
   "execution_count": 23,
   "id": "3f29c61f",
   "metadata": {},
   "outputs": [
    {
     "data": {
      "text/plain": [
       "'Pw Skills Data Science'"
      ]
     },
     "execution_count": 23,
     "metadata": {},
     "output_type": "execute_result"
    }
   ],
   "source": [
    "string"
   ]
  },
  {
   "cell_type": "code",
   "execution_count": 24,
   "id": "08a90757",
   "metadata": {},
   "outputs": [
    {
     "data": {
      "text/plain": [
       "'Pw Skills Data Science'"
      ]
     },
     "execution_count": 24,
     "metadata": {},
     "output_type": "execute_result"
    }
   ],
   "source": [
    "string[::]"
   ]
  },
  {
   "cell_type": "code",
   "execution_count": 25,
   "id": "ff427d7b",
   "metadata": {},
   "outputs": [
    {
     "data": {
      "text/plain": [
       "'ecneicS ataD sllikS wP'"
      ]
     },
     "execution_count": 25,
     "metadata": {},
     "output_type": "execute_result"
    }
   ],
   "source": [
    "string[::-1]"
   ]
  },
  {
   "cell_type": "code",
   "execution_count": 26,
   "id": "6d6075c0",
   "metadata": {},
   "outputs": [
    {
     "data": {
      "text/plain": [
       "'eniSaa liSw'"
      ]
     },
     "execution_count": 26,
     "metadata": {},
     "output_type": "execute_result"
    }
   ],
   "source": [
    "string[::-2]"
   ]
  },
  {
   "cell_type": "code",
   "execution_count": 27,
   "id": "83d0708e",
   "metadata": {},
   "outputs": [
    {
     "data": {
      "text/plain": [
       "'eeSt lSP'"
      ]
     },
     "execution_count": 27,
     "metadata": {},
     "output_type": "execute_result"
    }
   ],
   "source": [
    "string[::-3]"
   ]
  },
  {
   "cell_type": "code",
   "execution_count": 28,
   "id": "42bb4398",
   "metadata": {},
   "outputs": [
    {
     "data": {
      "text/plain": [
       "'Pw Skills Data Science'"
      ]
     },
     "execution_count": 28,
     "metadata": {},
     "output_type": "execute_result"
    }
   ],
   "source": [
    "string[::1]"
   ]
  },
  {
   "cell_type": "code",
   "execution_count": 29,
   "id": "07adec6e",
   "metadata": {},
   "outputs": [
    {
     "data": {
      "text/plain": [
       "'P klsDt cec'"
      ]
     },
     "execution_count": 29,
     "metadata": {},
     "output_type": "execute_result"
    }
   ],
   "source": [
    "string[::2]"
   ]
  },
  {
   "cell_type": "code",
   "execution_count": 30,
   "id": "8a470c76",
   "metadata": {},
   "outputs": [
    {
     "data": {
      "text/plain": [
       "'PiDSc'"
      ]
     },
     "execution_count": 30,
     "metadata": {},
     "output_type": "execute_result"
    }
   ],
   "source": [
    "string[::5]"
   ]
  },
  {
   "cell_type": "code",
   "execution_count": 31,
   "id": "82b6b532",
   "metadata": {},
   "outputs": [
    {
     "data": {
      "text/plain": [
       "'ihbA'"
      ]
     },
     "execution_count": 31,
     "metadata": {},
     "output_type": "execute_result"
    }
   ],
   "source": [
    "name=\"Abhi\"\n",
    "name[::-1]"
   ]
  },
  {
   "cell_type": "code",
   "execution_count": 32,
   "id": "d3c4c168",
   "metadata": {},
   "outputs": [
    {
     "data": {
      "text/plain": [
       "'Abhi'"
      ]
     },
     "execution_count": 32,
     "metadata": {},
     "output_type": "execute_result"
    }
   ],
   "source": [
    "name[::1]"
   ]
  },
  {
   "cell_type": "code",
   "execution_count": 33,
   "id": "02146aa7",
   "metadata": {},
   "outputs": [
    {
     "data": {
      "text/plain": [
       "'Ah'"
      ]
     },
     "execution_count": 33,
     "metadata": {},
     "output_type": "execute_result"
    }
   ],
   "source": [
    "name[::2]"
   ]
  },
  {
   "cell_type": "code",
   "execution_count": 34,
   "id": "58ded20d",
   "metadata": {},
   "outputs": [
    {
     "data": {
      "text/plain": [
       "'ihbA'"
      ]
     },
     "execution_count": 34,
     "metadata": {},
     "output_type": "execute_result"
    }
   ],
   "source": [
    "name[::-1]"
   ]
  },
  {
   "cell_type": "code",
   "execution_count": 35,
   "id": "8837d531",
   "metadata": {},
   "outputs": [
    {
     "data": {
      "text/plain": [
       "'ib'"
      ]
     },
     "execution_count": 35,
     "metadata": {},
     "output_type": "execute_result"
    }
   ],
   "source": [
    "name[::-2]"
   ]
  },
  {
   "cell_type": "code",
   "execution_count": 36,
   "id": "68e02624",
   "metadata": {},
   "outputs": [
    {
     "data": {
      "text/plain": [
       "'ihbA'"
      ]
     },
     "execution_count": 36,
     "metadata": {},
     "output_type": "execute_result"
    }
   ],
   "source": [
    "name[3::-1]"
   ]
  },
  {
   "cell_type": "code",
   "execution_count": 37,
   "id": "05993f7c",
   "metadata": {},
   "outputs": [
    {
     "data": {
      "text/plain": [
       "'hbA'"
      ]
     },
     "execution_count": 37,
     "metadata": {},
     "output_type": "execute_result"
    }
   ],
   "source": [
    "name[2::-1]"
   ]
  },
  {
   "cell_type": "code",
   "execution_count": 38,
   "id": "eef086c1",
   "metadata": {},
   "outputs": [
    {
     "data": {
      "text/plain": [
       "'ih'"
      ]
     },
     "execution_count": 38,
     "metadata": {},
     "output_type": "execute_result"
    }
   ],
   "source": [
    "name[3:1:-1]"
   ]
  },
  {
   "cell_type": "code",
   "execution_count": 39,
   "id": "6fb126ed",
   "metadata": {},
   "outputs": [
    {
     "data": {
      "text/plain": [
       "'Science'"
      ]
     },
     "execution_count": 39,
     "metadata": {},
     "output_type": "execute_result"
    }
   ],
   "source": [
    "course_name=\"Data Science Master\"\n",
    "course_name[5:12]\n",
    "#course_name[11:4:-1]"
   ]
  },
  {
   "cell_type": "code",
   "execution_count": 40,
   "id": "d9398365",
   "metadata": {},
   "outputs": [
    {
     "data": {
      "text/plain": [
       "'ecneicS'"
      ]
     },
     "execution_count": 40,
     "metadata": {},
     "output_type": "execute_result"
    }
   ],
   "source": [
    "course_name[11:4:-1]"
   ]
  },
  {
   "cell_type": "code",
   "execution_count": 41,
   "id": "4bd34859",
   "metadata": {},
   "outputs": [
    {
     "data": {
      "text/plain": [
       "'Data Science Master'"
      ]
     },
     "execution_count": 41,
     "metadata": {},
     "output_type": "execute_result"
    }
   ],
   "source": [
    "course_name"
   ]
  },
  {
   "cell_type": "code",
   "execution_count": 42,
   "id": "593781f6",
   "metadata": {},
   "outputs": [
    {
     "data": {
      "text/plain": [
       "'Data Science MasterCourse'"
      ]
     },
     "execution_count": 42,
     "metadata": {},
     "output_type": "execute_result"
    }
   ],
   "source": [
    "## Operation of concatenation:-\n",
    "course_name + \"Course\""
   ]
  },
  {
   "cell_type": "code",
   "execution_count": 45,
   "id": "727bcb1f",
   "metadata": {},
   "outputs": [
    {
     "name": "stdout",
     "output_type": "stream",
     "text": [
      "Hello:World:\n"
     ]
    }
   ],
   "source": [
    "print(\"Hello:\"+\"World:\")"
   ]
  },
  {
   "cell_type": "code",
   "execution_count": 47,
   "id": "5e09913d",
   "metadata": {},
   "outputs": [
    {
     "data": {
      "text/plain": [
       "'Data Science MasterData Science MasterData Science MasterData Science MasterData Science Master'"
      ]
     },
     "execution_count": 47,
     "metadata": {},
     "output_type": "execute_result"
    }
   ],
   "source": [
    "course_name*5"
   ]
  },
  {
   "cell_type": "code",
   "execution_count": 48,
   "id": "48d783d4",
   "metadata": {},
   "outputs": [
    {
     "data": {
      "text/plain": [
       "19"
      ]
     },
     "execution_count": 48,
     "metadata": {},
     "output_type": "execute_result"
    }
   ],
   "source": [
    "len(course_name)"
   ]
  },
  {
   "cell_type": "code",
   "execution_count": 50,
   "id": "ab91dbea",
   "metadata": {},
   "outputs": [
    {
     "data": {
      "text/plain": [
       "9"
      ]
     },
     "execution_count": 50,
     "metadata": {},
     "output_type": "execute_result"
    }
   ],
   "source": [
    "## Find function:\n",
    "course_name.find(\"n\")"
   ]
  },
  {
   "cell_type": "code",
   "execution_count": 51,
   "id": "aff02ef9",
   "metadata": {},
   "outputs": [
    {
     "data": {
      "text/plain": [
       "1"
      ]
     },
     "execution_count": 51,
     "metadata": {},
     "output_type": "execute_result"
    }
   ],
   "source": [
    "course_name.find(\"a\")"
   ]
  },
  {
   "cell_type": "code",
   "execution_count": 52,
   "id": "b31fc911",
   "metadata": {},
   "outputs": [
    {
     "data": {
      "text/plain": [
       "8"
      ]
     },
     "execution_count": 52,
     "metadata": {},
     "output_type": "execute_result"
    }
   ],
   "source": [
    "course_name.find(\"e\",2,10)"
   ]
  },
  {
   "cell_type": "code",
   "execution_count": 54,
   "id": "4892eac4",
   "metadata": {},
   "outputs": [
    {
     "data": {
      "text/plain": [
       "-1"
      ]
     },
     "execution_count": 54,
     "metadata": {},
     "output_type": "execute_result"
    }
   ],
   "source": [
    "course_name.find(\"b\")"
   ]
  },
  {
   "cell_type": "code",
   "execution_count": 56,
   "id": "c26836a4",
   "metadata": {},
   "outputs": [
    {
     "data": {
      "text/plain": [
       "3"
      ]
     },
     "execution_count": 56,
     "metadata": {},
     "output_type": "execute_result"
    }
   ],
   "source": [
    "## String count():-return the number of non-overlapping occurrences of sbustring\n",
    "## sub in string S[start:end].Optional arguments start and end are interpreted\n",
    "## as in slice notation: ## Syntax:- S.count(sub[,start[,end]]):-\n",
    "course_name.count(\"a\")"
   ]
  },
  {
   "cell_type": "code",
   "execution_count": 58,
   "id": "90870758",
   "metadata": {},
   "outputs": [
    {
     "data": {
      "text/plain": [
       "2"
      ]
     },
     "execution_count": 58,
     "metadata": {},
     "output_type": "execute_result"
    }
   ],
   "source": [
    "course_name.count(' ')"
   ]
  },
  {
   "cell_type": "code",
   "execution_count": 59,
   "id": "78bdb64a",
   "metadata": {},
   "outputs": [],
   "source": [
    "## string split function:-\n",
    "\n",
    "##### Return a list of the word inn the string,using separator as the delimiter string.\n",
    "## Syntax::- course_name.split(sep=none , maxsplit=-1)"
   ]
  },
  {
   "cell_type": "code",
   "execution_count": 60,
   "id": "c23cd9ec",
   "metadata": {},
   "outputs": [
    {
     "data": {
      "text/plain": [
       "['Data', 'Science', 'Master']"
      ]
     },
     "execution_count": 60,
     "metadata": {},
     "output_type": "execute_result"
    }
   ],
   "source": [
    "course_name.split(' ')"
   ]
  },
  {
   "cell_type": "code",
   "execution_count": 62,
   "id": "356b5f3b",
   "metadata": {},
   "outputs": [
    {
     "data": {
      "text/plain": [
       "['Data Science Ma', 'ter']"
      ]
     },
     "execution_count": 62,
     "metadata": {},
     "output_type": "execute_result"
    }
   ],
   "source": [
    "course_name.split(\"s\")"
   ]
  },
  {
   "cell_type": "code",
   "execution_count": 65,
   "id": "9549fe0a",
   "metadata": {},
   "outputs": [
    {
     "data": {
      "text/plain": [
       "['Data ', 'cience Master']"
      ]
     },
     "execution_count": 65,
     "metadata": {},
     "output_type": "execute_result"
    }
   ],
   "source": [
    "course_name.split('S')"
   ]
  },
  {
   "cell_type": "code",
   "execution_count": 64,
   "id": "7d48833b",
   "metadata": {},
   "outputs": [
    {
     "data": {
      "text/plain": [
       "('Data Science Ma', 's', 'ter')"
      ]
     },
     "execution_count": 64,
     "metadata": {},
     "output_type": "execute_result"
    }
   ],
   "source": [
    "## partition():-Partition the string into three parts using the given separator.\n",
    "course_name.partition('s')"
   ]
  },
  {
   "cell_type": "code",
   "execution_count": 66,
   "id": "ad9a49b2",
   "metadata": {},
   "outputs": [
    {
     "data": {
      "text/plain": [
       "('Data ', 'S', 'cience Master')"
      ]
     },
     "execution_count": 66,
     "metadata": {},
     "output_type": "execute_result"
    }
   ],
   "source": [
    "course_name.partition('S')"
   ]
  },
  {
   "cell_type": "code",
   "execution_count": 67,
   "id": "51074517",
   "metadata": {},
   "outputs": [],
   "source": [
    "## String upper and lowercase:-\n",
    "## Upper():- Return a copy of the string converted to uppercase.\n",
    "## Lower():- Return a copy of the string converted to lowercase.\n"
   ]
  },
  {
   "cell_type": "code",
   "execution_count": 68,
   "id": "e368e2cf",
   "metadata": {},
   "outputs": [
    {
     "data": {
      "text/plain": [
       "'DATA SCIENCE MASTER'"
      ]
     },
     "execution_count": 68,
     "metadata": {},
     "output_type": "execute_result"
    }
   ],
   "source": [
    "course_name.upper()"
   ]
  },
  {
   "cell_type": "code",
   "execution_count": 69,
   "id": "8aedf70f",
   "metadata": {},
   "outputs": [
    {
     "data": {
      "text/plain": [
       "'data science master'"
      ]
     },
     "execution_count": 69,
     "metadata": {},
     "output_type": "execute_result"
    }
   ],
   "source": [
    "course_name.lower()"
   ]
  },
  {
   "cell_type": "code",
   "execution_count": 70,
   "id": "04e06d52",
   "metadata": {},
   "outputs": [],
   "source": [
    "## String swapcase:-\n",
    "## swapcase():-Convert uppercase characters to lowercase and lowercase to \n",
    "## uppercase."
   ]
  },
  {
   "cell_type": "code",
   "execution_count": 71,
   "id": "27789fdd",
   "metadata": {},
   "outputs": [
    {
     "data": {
      "text/plain": [
       "'dATA sCIENCE mASTER'"
      ]
     },
     "execution_count": 71,
     "metadata": {},
     "output_type": "execute_result"
    }
   ],
   "source": [
    "course_name.swapcase()"
   ]
  },
  {
   "cell_type": "code",
   "execution_count": 73,
   "id": "dd696c3a",
   "metadata": {},
   "outputs": [
    {
     "data": {
      "text/plain": [
       "'Data Science Master'"
      ]
     },
     "execution_count": 73,
     "metadata": {},
     "output_type": "execute_result"
    }
   ],
   "source": [
    "## title():-Return a version of the string where each word is titlecase.\n",
    "course_name.title()"
   ]
  },
  {
   "cell_type": "code",
   "execution_count": 2,
   "id": "52d33d10",
   "metadata": {},
   "outputs": [],
   "source": [
    "name=\"noughty abhi\""
   ]
  },
  {
   "cell_type": "code",
   "execution_count": 3,
   "id": "c7fef751",
   "metadata": {},
   "outputs": [
    {
     "data": {
      "text/plain": [
       "'Noughty Abhi'"
      ]
     },
     "execution_count": 3,
     "metadata": {},
     "output_type": "execute_result"
    }
   ],
   "source": [
    "name.title()"
   ]
  },
  {
   "cell_type": "code",
   "execution_count": 8,
   "id": "8b4265dc",
   "metadata": {},
   "outputs": [],
   "source": [
    "## String Capitalize():-Return a capitalize version of string:\n",
    "## Make the first character have upper case and the rest lowercase."
   ]
  },
  {
   "cell_type": "code",
   "execution_count": 7,
   "id": "ba6dfd14",
   "metadata": {},
   "outputs": [
    {
     "data": {
      "text/plain": [
       "'Noughty abhi'"
      ]
     },
     "execution_count": 7,
     "metadata": {},
     "output_type": "execute_result"
    }
   ],
   "source": [
    "name.capitalize()"
   ]
  },
  {
   "cell_type": "markdown",
   "id": "d97a38ae",
   "metadata": {},
   "source": [
    "## Reversing a String:\n",
    "\n",
    "|:-:|:-:|\n",
    "|***Returna reverse iterator over the values of the given sequence***|                \n"
   ]
  },
  {
   "cell_type": "code",
   "execution_count": 9,
   "id": "1cad4364",
   "metadata": {},
   "outputs": [
    {
     "data": {
      "text/plain": [
       "'ihba ythguon'"
      ]
     },
     "execution_count": 9,
     "metadata": {},
     "output_type": "execute_result"
    }
   ],
   "source": [
    "name[::-1]"
   ]
  },
  {
   "cell_type": "code",
   "execution_count": 16,
   "id": "168a83d8",
   "metadata": {},
   "outputs": [
    {
     "data": {
      "text/plain": [
       "<reversed at 0x14fa2a5d0a0>"
      ]
     },
     "execution_count": 16,
     "metadata": {},
     "output_type": "execute_result"
    }
   ],
   "source": [
    "## why this heppened:\n",
    "## because of this is an object stored in the memory locations.\n",
    "reversed(name)"
   ]
  },
  {
   "cell_type": "code",
   "execution_count": 17,
   "id": "f82dd7a6",
   "metadata": {},
   "outputs": [
    {
     "data": {
      "text/plain": [
       "'ab.hi.sh.ek'"
      ]
     },
     "execution_count": 17,
     "metadata": {},
     "output_type": "execute_result"
    }
   ],
   "source": [
    "## string jion():-Concatenate any number of strings.\n",
    "\n",
    "## The string whose method is called in inserted in between each given strings.\n",
    "## The result is returned as a new string.\n",
    "## For example:-\n",
    "'.'.join(['ab','hi','sh','ek'])"
   ]
  },
  {
   "cell_type": "code",
   "execution_count": 18,
   "id": "93e65b6a",
   "metadata": {},
   "outputs": [
    {
     "ename": "TypeError",
     "evalue": "str.join() takes exactly one argument (0 given)",
     "output_type": "error",
     "traceback": [
      "\u001b[1;31m---------------------------------------------------------------------------\u001b[0m",
      "\u001b[1;31mTypeError\u001b[0m                                 Traceback (most recent call last)",
      "Input \u001b[1;32mIn [18]\u001b[0m, in \u001b[0;36m<cell line: 1>\u001b[1;34m()\u001b[0m\n\u001b[1;32m----> 1\u001b[0m \u001b[43mname\u001b[49m\u001b[38;5;241;43m.\u001b[39;49m\u001b[43mjoin\u001b[49m\u001b[43m(\u001b[49m\u001b[43m)\u001b[49m\n",
      "\u001b[1;31mTypeError\u001b[0m: str.join() takes exactly one argument (0 given)"
     ]
    }
   ],
   "source": [
    "name.join() ## we have to pass atleast one arguments:"
   ]
  },
  {
   "cell_type": "code",
   "execution_count": 20,
   "id": "7f2c39e8",
   "metadata": {},
   "outputs": [
    {
     "ename": "NameError",
     "evalue": "name 'join' is not defined",
     "output_type": "error",
     "traceback": [
      "\u001b[1;31m---------------------------------------------------------------------------\u001b[0m",
      "\u001b[1;31mNameError\u001b[0m                                 Traceback (most recent call last)",
      "Input \u001b[1;32mIn [20]\u001b[0m, in \u001b[0;36m<cell line: 1>\u001b[1;34m()\u001b[0m\n\u001b[1;32m----> 1\u001b[0m \u001b[43mjoin\u001b[49m(\u001b[38;5;28mreversed\u001b[39m(name))\n",
      "\u001b[1;31mNameError\u001b[0m: name 'join' is not defined"
     ]
    }
   ],
   "source": [
    "join(reversed(name))"
   ]
  },
  {
   "cell_type": "code",
   "execution_count": 14,
   "id": "96a72181",
   "metadata": {},
   "outputs": [
    {
     "data": {
      "text/plain": [
       "'i h b a   y t h g u o n'"
      ]
     },
     "execution_count": 14,
     "metadata": {},
     "output_type": "execute_result"
    }
   ],
   "source": [
    "' '.join(reversed(name))"
   ]
  },
  {
   "cell_type": "code",
   "execution_count": 21,
   "id": "346fb6a7",
   "metadata": {},
   "outputs": [
    {
     "data": {
      "text/plain": [
       "'kAbhiiAbhinAbhig'"
      ]
     },
     "execution_count": 21,
     "metadata": {},
     "output_type": "execute_result"
    }
   ],
   "source": [
    "\"Abhi\".join(\"king\")"
   ]
  },
  {
   "cell_type": "code",
   "execution_count": 22,
   "id": "0c3d049b",
   "metadata": {},
   "outputs": [
    {
     "data": {
      "text/plain": [
       "'a'"
      ]
     },
     "execution_count": 22,
     "metadata": {},
     "output_type": "execute_result"
    }
   ],
   "source": [
    "\"Abhi\".join(\"a\")"
   ]
  },
  {
   "cell_type": "code",
   "execution_count": 23,
   "id": "370df3a4",
   "metadata": {},
   "outputs": [
    {
     "data": {
      "text/plain": [
       "'a b c d'"
      ]
     },
     "execution_count": 23,
     "metadata": {},
     "output_type": "execute_result"
    }
   ],
   "source": [
    "\" \".join(\"abcd\")"
   ]
  },
  {
   "cell_type": "code",
   "execution_count": 24,
   "id": "0b8112a4",
   "metadata": {},
   "outputs": [
    {
     "data": {
      "text/plain": [
       "'S L L I K S W P'"
      ]
     },
     "execution_count": 24,
     "metadata": {},
     "output_type": "execute_result"
    }
   ],
   "source": [
    "\" \".join(reversed(\"PWSKILLS\"))"
   ]
  },
  {
   "cell_type": "code",
   "execution_count": 25,
   "id": "2da14f13",
   "metadata": {},
   "outputs": [
    {
     "data": {
      "text/plain": [
       "'T N A'"
      ]
     },
     "execution_count": 25,
     "metadata": {},
     "output_type": "execute_result"
    }
   ],
   "source": [
    "\" \".join(reversed(\"ANT\"))"
   ]
  },
  {
   "cell_type": "code",
   "execution_count": 26,
   "id": "9a1e7d89",
   "metadata": {},
   "outputs": [
    {
     "data": {
      "text/plain": [
       "'a n t'"
      ]
     },
     "execution_count": 26,
     "metadata": {},
     "output_type": "execute_result"
    }
   ],
   "source": [
    "\" \".join(\"ant\")"
   ]
  },
  {
   "cell_type": "code",
   "execution_count": 27,
   "id": "a79eb945",
   "metadata": {},
   "outputs": [
    {
     "data": {
      "text/plain": [
       "'T N A'"
      ]
     },
     "execution_count": 27,
     "metadata": {},
     "output_type": "execute_result"
    }
   ],
   "source": [
    "\" \".join(reversed(\"ANT\"))"
   ]
  },
  {
   "cell_type": "code",
   "execution_count": 28,
   "id": "ebf60e40",
   "metadata": {},
   "outputs": [
    {
     "data": {
      "text/plain": [
       "'TNA'"
      ]
     },
     "execution_count": 28,
     "metadata": {},
     "output_type": "execute_result"
    }
   ],
   "source": [
    "\"\".join(reversed(\"ANT\"))"
   ]
  },
  {
   "cell_type": "code",
   "execution_count": 30,
   "id": "ca7e53a7",
   "metadata": {},
   "outputs": [
    {
     "data": {
      "text/plain": [
       "'T Pwskills N Pwskills A'"
      ]
     },
     "execution_count": 30,
     "metadata": {},
     "output_type": "execute_result"
    }
   ],
   "source": [
    "\" Pwskills \".join(reversed(\"ANT\"))"
   ]
  },
  {
   "cell_type": "code",
   "execution_count": 31,
   "id": "1e7447d8",
   "metadata": {},
   "outputs": [
    {
     "data": {
      "text/plain": [
       "<reversed at 0x14fa3547160>"
      ]
     },
     "execution_count": 31,
     "metadata": {},
     "output_type": "execute_result"
    }
   ],
   "source": [
    "reversed(\"ant\")"
   ]
  },
  {
   "cell_type": "code",
   "execution_count": 32,
   "id": "299f0bfc",
   "metadata": {},
   "outputs": [
    {
     "data": {
      "text/plain": [
       "['T', 'N', 'A']"
      ]
     },
     "execution_count": 32,
     "metadata": {},
     "output_type": "execute_result"
    }
   ],
   "source": [
    "## Typecasting:-\n",
    "list(reversed(\"ANT\"))"
   ]
  },
  {
   "cell_type": "code",
   "execution_count": 33,
   "id": "2db0f3ad",
   "metadata": {},
   "outputs": [],
   "source": [
    "str1 = \"PW is a good Company:\" "
   ]
  },
  {
   "cell_type": "code",
   "execution_count": 35,
   "id": "4954b460",
   "metadata": {},
   "outputs": [
    {
     "data": {
      "text/plain": [
       "'vPW is a good CompanyePW is a good CompanyrPW is a good Companyy'"
      ]
     },
     "execution_count": 35,
     "metadata": {},
     "output_type": "execute_result"
    }
   ],
   "source": [
    "str1.join(\"very\")"
   ]
  },
  {
   "cell_type": "code",
   "execution_count": 36,
   "id": "e9818ab3",
   "metadata": {},
   "outputs": [
    {
     "name": "stdout",
     "output_type": "stream",
     "text": [
      "ihba ythguon"
     ]
    }
   ],
   "source": [
    "for i in list(reversed(name)):\n",
    "    print(i,end='')"
   ]
  },
  {
   "cell_type": "code",
   "execution_count": 38,
   "id": "cf804275",
   "metadata": {},
   "outputs": [],
   "source": [
    "## Removing character from the end of the string:-"
   ]
  },
  {
   "cell_type": "code",
   "execution_count": 42,
   "id": "de377997",
   "metadata": {},
   "outputs": [],
   "source": [
    "string_a = \" pwskills \""
   ]
  },
  {
   "cell_type": "markdown",
   "id": "200eda61",
   "metadata": {},
   "source": [
    "##### strip():-Return a copy of the string with leading and trailing whitespace removed.\n",
    "###### if chars is given and not none,remove characters in chars instead.\n",
    "###### syntax:- string_a.strip(chars=None,/)\n"
   ]
  },
  {
   "cell_type": "code",
   "execution_count": 44,
   "id": "a3dd13d5",
   "metadata": {},
   "outputs": [
    {
     "data": {
      "text/plain": [
       "'pwskills'"
      ]
     },
     "execution_count": 44,
     "metadata": {},
     "output_type": "execute_result"
    }
   ],
   "source": [
    "string_a.strip()"
   ]
  },
  {
   "cell_type": "markdown",
   "id": "4ff35cfb",
   "metadata": {},
   "source": [
    "##### lstrip():-Return a copy of the string with leading whitespace removed.\n",
    "###### syntax:- string_alstrip(chars=None,/)"
   ]
  },
  {
   "cell_type": "code",
   "execution_count": 46,
   "id": "7c15cb2e",
   "metadata": {},
   "outputs": [
    {
     "data": {
      "text/plain": [
       "'pwskills '"
      ]
     },
     "execution_count": 46,
     "metadata": {},
     "output_type": "execute_result"
    }
   ],
   "source": [
    "string_a.lstrip(\" \")"
   ]
  },
  {
   "cell_type": "code",
   "execution_count": 48,
   "id": "bb50ccdf",
   "metadata": {},
   "outputs": [
    {
     "data": {
      "text/plain": [
       "' pwskills'"
      ]
     },
     "execution_count": 48,
     "metadata": {},
     "output_type": "execute_result"
    }
   ],
   "source": [
    "string_a.rstrip(\" \")"
   ]
  },
  {
   "cell_type": "markdown",
   "id": "54ee1124",
   "metadata": {},
   "source": [
    "###### replace():- Return a copy with all occurrences of substring old replaced by new.\n",
    "###### count \n",
    "###### maximum number of occurrences to replace.\n",
    "###### -1(the default value) means replace all occurrences.\n",
    "###### If the optional arguments count is given,only the first count occurrences are replaced.\n",
    "###### syntax:- sting_n.replace(old, new, count=-1, /)\n"
   ]
  },
  {
   "cell_type": "code",
   "execution_count": 49,
   "id": "8c691c1c",
   "metadata": {},
   "outputs": [],
   "source": [
    "string_n=\"Greeting to Pwskills\""
   ]
  },
  {
   "cell_type": "code",
   "execution_count": 52,
   "id": "48c9f0bf",
   "metadata": {},
   "outputs": [
    {
     "data": {
      "text/plain": [
       "'Greeting from Pwskills'"
      ]
     },
     "execution_count": 52,
     "metadata": {},
     "output_type": "execute_result"
    }
   ],
   "source": [
    "string_n.replace(\"to\",\"from\")"
   ]
  },
  {
   "cell_type": "code",
   "execution_count": 54,
   "id": "ce313c1e",
   "metadata": {},
   "outputs": [
    {
     "data": {
      "text/plain": [
       "'Welcome to Pwskills'"
      ]
     },
     "execution_count": 54,
     "metadata": {},
     "output_type": "execute_result"
    }
   ],
   "source": [
    "string_n.replace(\"Greeting\",\"Welcome\")"
   ]
  },
  {
   "cell_type": "code",
   "execution_count": 55,
   "id": "4a13572f",
   "metadata": {},
   "outputs": [
    {
     "data": {
      "text/plain": [
       "'Greeoing oo Pwskills'"
      ]
     },
     "execution_count": 55,
     "metadata": {},
     "output_type": "execute_result"
    }
   ],
   "source": [
    "string_n.replace(\"t\",\"o\")"
   ]
  },
  {
   "cell_type": "code",
   "execution_count": 56,
   "id": "72a525f1",
   "metadata": {},
   "outputs": [],
   "source": [
    "var_a=string_n.replace(\"to\",\"from\")"
   ]
  },
  {
   "cell_type": "code",
   "execution_count": 57,
   "id": "f93f38a8",
   "metadata": {},
   "outputs": [
    {
     "name": "stdout",
     "output_type": "stream",
     "text": [
      "1441562629424\n",
      "1441562685232\n"
     ]
    }
   ],
   "source": [
    "print(id(string_n))\n",
    "print(id(var_a))"
   ]
  },
  {
   "cell_type": "code",
   "execution_count": 59,
   "id": "18dfe3b3",
   "metadata": {},
   "outputs": [
    {
     "data": {
      "text/plain": [
       "'noughtyabhi gmai.com'"
      ]
     },
     "execution_count": 59,
     "metadata": {},
     "output_type": "execute_result"
    }
   ],
   "source": [
    "string_n=\"noughtyabhi@gmai.com\"\n",
    "var_a=string_n.replace(\"@\",\" \")\n",
    "var_a"
   ]
  },
  {
   "cell_type": "code",
   "execution_count": 58,
   "id": "f05bded7",
   "metadata": {},
   "outputs": [
    {
     "data": {
      "text/plain": [
       "'hello world'"
      ]
     },
     "execution_count": 58,
     "metadata": {},
     "output_type": "execute_result"
    }
   ],
   "source": [
    "\"hello world\""
   ]
  },
  {
   "cell_type": "code",
   "execution_count": 61,
   "id": "f0078c6d",
   "metadata": {},
   "outputs": [
    {
     "data": {
      "text/plain": [
       "'hello \\n world'"
      ]
     },
     "execution_count": 61,
     "metadata": {},
     "output_type": "execute_result"
    }
   ],
   "source": [
    "\"hello \\n world\""
   ]
  },
  {
   "cell_type": "code",
   "execution_count": 62,
   "id": "d149055b",
   "metadata": {},
   "outputs": [
    {
     "data": {
      "text/plain": [
       "'hello \\t world'"
      ]
     },
     "execution_count": 62,
     "metadata": {},
     "output_type": "execute_result"
    }
   ],
   "source": [
    "## \\t means tab:\n",
    "\"hello \\t world\""
   ]
  },
  {
   "cell_type": "code",
   "execution_count": 63,
   "id": "aa8831f4",
   "metadata": {},
   "outputs": [
    {
     "data": {
      "text/plain": [
       "'hello   world'"
      ]
     },
     "execution_count": 63,
     "metadata": {},
     "output_type": "execute_result"
    }
   ],
   "source": [
    "\"hello \\tworld\".expandtabs()"
   ]
  },
  {
   "cell_type": "code",
   "execution_count": 71,
   "id": "84e3b4e8",
   "metadata": {},
   "outputs": [
    {
     "data": {
      "text/plain": [
       "'Welcome to Pwskills.Welcome to Data Science Masters'"
      ]
     },
     "execution_count": 71,
     "metadata": {},
     "output_type": "execute_result"
    }
   ],
   "source": [
    "str1=\"Welcome to Pwskills.Welcome to Dat cience Masters\"\n",
    "str1.replace(\"Dat\",\"Data\").replace(\"cience\",\"Science\")"
   ]
  },
  {
   "cell_type": "code",
   "execution_count": 81,
   "id": "dcef4129",
   "metadata": {},
   "outputs": [],
   "source": [
    "str1=\"Welcome to Pwskills.Welcome to Dat cience Masters\""
   ]
  },
  {
   "cell_type": "code",
   "execution_count": 82,
   "id": "02e90ab3",
   "metadata": {},
   "outputs": [
    {
     "data": {
      "text/plain": [
       "False"
      ]
     },
     "execution_count": 82,
     "metadata": {},
     "output_type": "execute_result"
    }
   ],
   "source": [
    "## isupper():-Return True if the string is a uppercase string, False otherwise.\n",
    "str1.isupper()"
   ]
  },
  {
   "cell_type": "code",
   "execution_count": 83,
   "id": "475e0fec",
   "metadata": {},
   "outputs": [
    {
     "data": {
      "text/plain": [
       "True"
      ]
     },
     "execution_count": 83,
     "metadata": {},
     "output_type": "execute_result"
    }
   ],
   "source": [
    "str1=\"ABHISHEK\"\n",
    "str1.isupper()"
   ]
  },
  {
   "cell_type": "code",
   "execution_count": null,
   "id": "52b606f9",
   "metadata": {},
   "outputs": [],
   "source": [
    "## islower():-Return True if the string is a lowercase string, False otherwise."
   ]
  },
  {
   "cell_type": "code",
   "execution_count": 84,
   "id": "66ef3a7c",
   "metadata": {},
   "outputs": [
    {
     "data": {
      "text/plain": [
       "False"
      ]
     },
     "execution_count": 84,
     "metadata": {},
     "output_type": "execute_result"
    }
   ],
   "source": [
    "str1.islower()"
   ]
  },
  {
   "cell_type": "code",
   "execution_count": 85,
   "id": "642ff3df",
   "metadata": {},
   "outputs": [
    {
     "data": {
      "text/plain": [
       "False"
      ]
     },
     "execution_count": 85,
     "metadata": {},
     "output_type": "execute_result"
    }
   ],
   "source": [
    "## isspace():- Return True if the string is a whitespace string, False otherwise.\n",
    "str1.isspace()"
   ]
  },
  {
   "cell_type": "code",
   "execution_count": 86,
   "id": "a5aaef28",
   "metadata": {},
   "outputs": [
    {
     "data": {
      "text/plain": [
       "True"
      ]
     },
     "execution_count": 86,
     "metadata": {},
     "output_type": "execute_result"
    }
   ],
   "source": [
    "' '.isspace()"
   ]
  },
  {
   "cell_type": "code",
   "execution_count": 87,
   "id": "a84c481f",
   "metadata": {},
   "outputs": [
    {
     "name": "stdout",
     "output_type": "stream",
     "text": [
      "Abhi\n"
     ]
    }
   ],
   "source": [
    "if \" \".isspace():\n",
    "    print(\"Abhi\")"
   ]
  },
  {
   "cell_type": "code",
   "execution_count": 88,
   "id": "d9142ba6",
   "metadata": {},
   "outputs": [],
   "source": [
    "str2=\"pwskills\""
   ]
  },
  {
   "cell_type": "code",
   "execution_count": 95,
   "id": "a273f5c3",
   "metadata": {},
   "outputs": [],
   "source": [
    "## endswith():-S.endswith(suffix[, start[, end]]) -> bool\n",
    "\n",
    "## Return True if S ends with the specified suffix, False otherwise.\n",
    "## With optional start, test S beginning at that position.\n",
    "## With optional end, stop comparing S at that position.\n",
    "## suffix can also be a tuple of strings to try."
   ]
  },
  {
   "cell_type": "code",
   "execution_count": 89,
   "id": "77d0d0bb",
   "metadata": {},
   "outputs": [
    {
     "data": {
      "text/plain": [
       "True"
      ]
     },
     "execution_count": 89,
     "metadata": {},
     "output_type": "execute_result"
    }
   ],
   "source": [
    "str2.endswith(\"s\")"
   ]
  },
  {
   "cell_type": "code",
   "execution_count": 90,
   "id": "a13d859e",
   "metadata": {},
   "outputs": [
    {
     "data": {
      "text/plain": [
       "False"
      ]
     },
     "execution_count": 90,
     "metadata": {},
     "output_type": "execute_result"
    }
   ],
   "source": [
    "str2=\"pwskill\"\n",
    "str2.endswith(\"s\")"
   ]
  },
  {
   "cell_type": "code",
   "execution_count": 94,
   "id": "3d42e413",
   "metadata": {},
   "outputs": [],
   "source": [
    "## S.startswith(prefix[, start[, end]]) -> bool\n",
    "\n",
    "## Return True if S starts with the specified prefix, False otherwise.\n",
    "## With optional start, test S beginning at that position.\n",
    "## With optional end, stop comparing S at that position.\n",
    "## prefix can also be a tuple of strings to try."
   ]
  },
  {
   "cell_type": "code",
   "execution_count": 92,
   "id": "7bbd8dac",
   "metadata": {},
   "outputs": [
    {
     "data": {
      "text/plain": [
       "False"
      ]
     },
     "execution_count": 92,
     "metadata": {},
     "output_type": "execute_result"
    }
   ],
   "source": [
    "str2.startswith(\"s\")"
   ]
  },
  {
   "cell_type": "code",
   "execution_count": 96,
   "id": "eb57cbc5",
   "metadata": {},
   "outputs": [
    {
     "data": {
      "text/plain": [
       "True"
      ]
     },
     "execution_count": 96,
     "metadata": {},
     "output_type": "execute_result"
    }
   ],
   "source": [
    "## check if all the char in string are alphanumeric\n",
    "a=\"abcd1234\"\n",
    "a.isalnum()"
   ]
  },
  {
   "cell_type": "code",
   "execution_count": 97,
   "id": "cacede7f",
   "metadata": {},
   "outputs": [],
   "source": [
    "## wap to count the number of characters in the strings:"
   ]
  },
  {
   "cell_type": "code",
   "execution_count": 102,
   "id": "0b8b6d49",
   "metadata": {},
   "outputs": [
    {
     "name": "stdout",
     "output_type": "stream",
     "text": [
      "Enter a string:abhishek\n",
      "8\n"
     ]
    }
   ],
   "source": [
    "str1=input(\"Enter a string:\")\n",
    "print(len(str1))"
   ]
  },
  {
   "cell_type": "code",
   "execution_count": 103,
   "id": "69fef284",
   "metadata": {},
   "outputs": [
    {
     "name": "stdout",
     "output_type": "stream",
     "text": [
      "8\n"
     ]
    }
   ],
   "source": [
    "count=0\n",
    "for i in str1:\n",
    "    count=count+1\n",
    "print(count)    "
   ]
  },
  {
   "cell_type": "code",
   "execution_count": 104,
   "id": "c89ede2f",
   "metadata": {},
   "outputs": [
    {
     "data": {
      "text/plain": [
       "'abhishek'"
      ]
     },
     "execution_count": 104,
     "metadata": {},
     "output_type": "execute_result"
    }
   ],
   "source": [
    "str1"
   ]
  },
  {
   "cell_type": "code",
   "execution_count": 105,
   "id": "31b7cad9",
   "metadata": {},
   "outputs": [
    {
     "name": "stdout",
     "output_type": "stream",
     "text": [
      "-8\n"
     ]
    }
   ],
   "source": [
    "rev=0\n",
    "for i in str1:\n",
    "    rev=rev-1\n",
    "print(rev)    "
   ]
  },
  {
   "cell_type": "code",
   "execution_count": 109,
   "id": "7b4757de",
   "metadata": {},
   "outputs": [
    {
     "name": "stdout",
     "output_type": "stream",
     "text": [
      "a\n",
      "b\n",
      "h\n",
      "i\n",
      "s\n",
      "h\n",
      "e\n",
      "k\n"
     ]
    }
   ],
   "source": [
    "for i in str1:\n",
    "    print(i)"
   ]
  },
  {
   "cell_type": "code",
   "execution_count": 110,
   "id": "3edf90a4",
   "metadata": {},
   "outputs": [
    {
     "data": {
      "text/plain": [
       "range(0, 8)"
      ]
     },
     "execution_count": 110,
     "metadata": {},
     "output_type": "execute_result"
    }
   ],
   "source": [
    "range(len(str1))"
   ]
  },
  {
   "cell_type": "code",
   "execution_count": 120,
   "id": "f7225c96",
   "metadata": {},
   "outputs": [
    {
     "name": "stdout",
     "output_type": "stream",
     "text": [
      "a\n",
      "b\n",
      "h\n",
      "i\n",
      "s\n",
      "h\n",
      "e\n",
      "k\n"
     ]
    }
   ],
   "source": [
    "for i in range(len(str1)):\n",
    "    print(str1[i])\n",
    "   "
   ]
  },
  {
   "cell_type": "code",
   "execution_count": 121,
   "id": "16778587",
   "metadata": {},
   "outputs": [
    {
     "name": "stdout",
     "output_type": "stream",
     "text": [
      "0 = a\n",
      "1 = b\n",
      "2 = h\n",
      "3 = i\n",
      "4 = s\n",
      "5 = h\n",
      "6 = e\n",
      "7 = k\n"
     ]
    }
   ],
   "source": [
    "for i in range(len(str1)):\n",
    "    print(i,\"=\",str1[i])"
   ]
  },
  {
   "cell_type": "code",
   "execution_count": 122,
   "id": "2d5e4a15",
   "metadata": {},
   "outputs": [],
   "source": [
    "## we can use index to iterate string reverse direction"
   ]
  },
  {
   "cell_type": "code",
   "execution_count": 126,
   "id": "8c0a7e55",
   "metadata": {},
   "outputs": [
    {
     "name": "stdout",
     "output_type": "stream",
     "text": [
      "-8\n"
     ]
    }
   ],
   "source": [
    "rev=0\n",
    "for i in str1:\n",
    "    rev=rev-1\n",
    "print(rev)    "
   ]
  },
  {
   "cell_type": "code",
   "execution_count": 127,
   "id": "3424f9e2",
   "metadata": {},
   "outputs": [
    {
     "name": "stdout",
     "output_type": "stream",
     "text": [
      "k\n",
      "e\n",
      "h\n",
      "s\n",
      "i\n",
      "h\n",
      "b\n",
      "a\n"
     ]
    }
   ],
   "source": [
    "for i in range(len(str1)-1,-1,-1):\n",
    "    print(str1[i])"
   ]
  },
  {
   "cell_type": "code",
   "execution_count": 128,
   "id": "86296f92",
   "metadata": {},
   "outputs": [
    {
     "name": "stdout",
     "output_type": "stream",
     "text": [
      "s\n",
      "l\n",
      "l\n",
      "i\n",
      "k\n",
      "s\n",
      "w\n",
      "p\n"
     ]
    }
   ],
   "source": [
    "string=\"pwskills\"\n",
    "ch=len(string)-1\n",
    "while ch>=0:\n",
    "    print(string[ch])\n",
    "    ch=ch-1\n",
    "    "
   ]
  },
  {
   "cell_type": "code",
   "execution_count": 129,
   "id": "2b853604",
   "metadata": {},
   "outputs": [
    {
     "data": {
      "text/plain": [
       "7"
      ]
     },
     "execution_count": 129,
     "metadata": {},
     "output_type": "execute_result"
    }
   ],
   "source": [
    "string=\"pwskills\"\n",
    "ch=len(string)-1\n",
    "ch"
   ]
  },
  {
   "cell_type": "code",
   "execution_count": 130,
   "id": "c3fcaa6e",
   "metadata": {},
   "outputs": [
    {
     "data": {
      "text/plain": [
       "('s', 'l', 'l')"
      ]
     },
     "execution_count": 130,
     "metadata": {},
     "output_type": "execute_result"
    }
   ],
   "source": [
    "string[7],string[6],string[5]"
   ]
  },
  {
   "cell_type": "code",
   "execution_count": 131,
   "id": "35fc26dd",
   "metadata": {},
   "outputs": [
    {
     "name": "stdout",
     "output_type": "stream",
     "text": [
      "s\n",
      "l\n",
      "l\n",
      "i\n",
      "k\n",
      "s\n",
      "w\n",
      "p\n"
     ]
    }
   ],
   "source": [
    "while ch>=0:\n",
    "    print(string[ch])\n",
    "    ch=ch-1\n",
    "    "
   ]
  },
  {
   "cell_type": "code",
   "execution_count": 138,
   "id": "73115a84",
   "metadata": {},
   "outputs": [
    {
     "name": "stdout",
     "output_type": "stream",
     "text": [
      "s\n",
      "l\n",
      "l\n",
      "i\n",
      "k\n",
      "s\n",
      "w\n",
      "p\n"
     ]
    }
   ],
   "source": [
    "for i in range(len(string)):\n",
    "    print(string[len(string)-(i+1)])\n",
    "    "
   ]
  },
  {
   "cell_type": "code",
   "execution_count": 139,
   "id": "a769c4b5",
   "metadata": {},
   "outputs": [
    {
     "name": "stdout",
     "output_type": "stream",
     "text": [
      "sllikswp"
     ]
    }
   ],
   "source": [
    "for i in range(len(string)):\n",
    "    print(string[len(string)-(i+1)],end='')"
   ]
  },
  {
   "cell_type": "code",
   "execution_count": 140,
   "id": "7923de9a",
   "metadata": {},
   "outputs": [],
   "source": [
    "name=\"Pwskills\"\n",
    "vowels=\"AaEeIiOoUu\""
   ]
  },
  {
   "cell_type": "code",
   "execution_count": 145,
   "id": "9a51f4a2",
   "metadata": {},
   "outputs": [
    {
     "name": "stdout",
     "output_type": "stream",
     "text": [
      "P is not a vowels\n",
      "w is not a vowels\n",
      "s is not a vowels\n",
      "k is not a vowels\n",
      "i is a vowels\n",
      "l is not a vowels\n",
      "l is not a vowels\n",
      "s is not a vowels\n"
     ]
    }
   ],
   "source": [
    "for ch in name:\n",
    "    if ch in vowels:\n",
    "        print(\"{} is a vowels\".format(ch))\n",
    "    else:\n",
    "        print(\"{} is not a vowels\".format(ch))\n",
    "        "
   ]
  }
 ],
 "metadata": {
  "kernelspec": {
   "display_name": "Python 3 (ipykernel)",
   "language": "python",
   "name": "python3"
  },
  "language_info": {
   "codemirror_mode": {
    "name": "ipython",
    "version": 3
   },
   "file_extension": ".py",
   "mimetype": "text/x-python",
   "name": "python",
   "nbconvert_exporter": "python",
   "pygments_lexer": "ipython3",
   "version": "3.9.12"
  }
 },
 "nbformat": 4,
 "nbformat_minor": 5
}
