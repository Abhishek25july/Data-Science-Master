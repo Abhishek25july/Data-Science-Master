{
 "cells": [
  {
   "cell_type": "code",
   "execution_count": 1,
   "id": "5fc1f997",
   "metadata": {},
   "outputs": [
    {
     "name": "stdout",
     "output_type": "stream",
     "text": [
      "hello worls\n"
     ]
    }
   ],
   "source": [
    "print(\"hello worls\")"
   ]
  },
  {
   "cell_type": "code",
   "execution_count": 2,
   "id": "a959368c",
   "metadata": {},
   "outputs": [
    {
     "name": "stdout",
     "output_type": "stream",
     "text": [
      "123\n"
     ]
    }
   ],
   "source": [
    "print(123)"
   ]
  },
  {
   "cell_type": "code",
   "execution_count": 4,
   "id": "1bad0d9f",
   "metadata": {},
   "outputs": [
    {
     "name": "stdout",
     "output_type": "stream",
     "text": [
      "My age is: 25\n"
     ]
    }
   ],
   "source": [
    "age=25\n",
    "print(\"My age is:\",age)"
   ]
  },
  {
   "cell_type": "code",
   "execution_count": 5,
   "id": "d62d46f0",
   "metadata": {},
   "outputs": [
    {
     "name": "stdout",
     "output_type": "stream",
     "text": [
      "My age is: {age}\n"
     ]
    }
   ],
   "source": [
    "print(\"My age is: {age}\")"
   ]
  },
  {
   "cell_type": "code",
   "execution_count": 6,
   "id": "6dc74057",
   "metadata": {},
   "outputs": [
    {
     "name": "stdout",
     "output_type": "stream",
     "text": [
      "My age is: 25\n"
     ]
    }
   ],
   "source": [
    "# f means(f string):\n",
    "print(f\"My age is: {age}\")"
   ]
  },
  {
   "cell_type": "code",
   "execution_count": 7,
   "id": "32f0677b",
   "metadata": {},
   "outputs": [
    {
     "name": "stdout",
     "output_type": "stream",
     "text": [
      "My name is Abhi and age is 25\n"
     ]
    }
   ],
   "source": [
    "# format()\n",
    "name=\"Abhi\"\n",
    "age=25\n",
    "print(\"My name is {} and age is {}\".format(name,age))\n"
   ]
  },
  {
   "cell_type": "code",
   "execution_count": 8,
   "id": "6b12b17d",
   "metadata": {},
   "outputs": [
    {
     "name": "stdout",
     "output_type": "stream",
     "text": [
      "My name is Abhi and age is 25\n"
     ]
    }
   ],
   "source": [
    "#placeholder:\n",
    "print(\"My name is {firstname} and age is {firstage}\".format(firstname=name,firstage=age))"
   ]
  },
  {
   "cell_type": "code",
   "execution_count": 9,
   "id": "adc7721e",
   "metadata": {},
   "outputs": [
    {
     "name": "stdout",
     "output_type": "stream",
     "text": [
      "My age is 24 and i have completed: my degree of MCA with the name of ALOK\n"
     ]
    }
   ],
   "source": [
    "name=\"ALOK\"\n",
    "age=24\n",
    "degree=\"MCA\"\n",
    "print(f\"My age is {age} and i have completed: my degree of {degree} with the name of {name}\")"
   ]
  },
  {
   "cell_type": "code",
   "execution_count": 12,
   "id": "18bce4c2",
   "metadata": {},
   "outputs": [
    {
     "name": "stdout",
     "output_type": "stream",
     "text": [
      "My age is 24 and i have completed: my degree of MCA wiht the name ofALOK\n"
     ]
    }
   ],
   "source": [
    "print(\"My age is {firstage} and i have completed: my degree of {firstdegree} wiht the name of{firstname}\".format(firstage=age,firstdegree=degree,firstname=name))"
   ]
  },
  {
   "cell_type": "code",
   "execution_count": 13,
   "id": "70741fe5",
   "metadata": {},
   "outputs": [
    {
     "name": "stdout",
     "output_type": "stream",
     "text": [
      "My age is 24 and i have completed: my degree of MCA with the name of ALOK\n"
     ]
    }
   ],
   "source": [
    "print(\"My age is {} and i have completed: my degree of {} with the name of {}\".format(age,degree,name))"
   ]
  },
  {
   "cell_type": "markdown",
   "id": "2d42f1a4",
   "metadata": {},
   "source": [
    "# Control Flow:\n",
    "## Decision Making Statements"
   ]
  },
  {
   "cell_type": "code",
   "execution_count": 14,
   "id": "7b2e55f7",
   "metadata": {},
   "outputs": [
    {
     "name": "stdout",
     "output_type": "stream",
     "text": [
      "You are eligible to vote\n"
     ]
    }
   ],
   "source": [
    "## If Statements\n",
    "age=18\n",
    "if age>=18:\n",
    "    print(\"You are eligible to vote\")"
   ]
  },
  {
   "cell_type": "code",
   "execution_count": 16,
   "id": "ff4e6232",
   "metadata": {},
   "outputs": [
    {
     "name": "stdout",
     "output_type": "stream",
     "text": [
      "You are eligible to vote\n"
     ]
    }
   ],
   "source": [
    "age=17\n",
    "if age<18:\n",
    "    print(\"You are eligible to vote\")"
   ]
  },
  {
   "cell_type": "code",
   "execution_count": 17,
   "id": "89db32ac",
   "metadata": {},
   "outputs": [
    {
     "name": "stdout",
     "output_type": "stream",
     "text": [
      "abhi\n"
     ]
    },
    {
     "data": {
      "text/plain": [
       "'abhi'"
      ]
     },
     "execution_count": 17,
     "metadata": {},
     "output_type": "execute_result"
    }
   ],
   "source": [
    "input()"
   ]
  },
  {
   "cell_type": "code",
   "execution_count": 18,
   "id": "46472bd7",
   "metadata": {},
   "outputs": [
    {
     "name": "stdout",
     "output_type": "stream",
     "text": [
      "Enter the name abhi\n"
     ]
    }
   ],
   "source": [
    "name=input(\"Enter the name \")"
   ]
  },
  {
   "cell_type": "code",
   "execution_count": 19,
   "id": "1b840343",
   "metadata": {},
   "outputs": [
    {
     "data": {
      "text/plain": [
       "'abhi'"
      ]
     },
     "execution_count": 19,
     "metadata": {},
     "output_type": "execute_result"
    }
   ],
   "source": [
    "name"
   ]
  },
  {
   "cell_type": "code",
   "execution_count": 20,
   "id": "44d070e5",
   "metadata": {},
   "outputs": [
    {
     "name": "stdout",
     "output_type": "stream",
     "text": [
      "enter your age:25\n"
     ]
    }
   ],
   "source": [
    "age=int(input(\"enter your age:\"))"
   ]
  },
  {
   "cell_type": "code",
   "execution_count": 21,
   "id": "216a2cb4",
   "metadata": {},
   "outputs": [
    {
     "data": {
      "text/plain": [
       "int"
      ]
     },
     "execution_count": 21,
     "metadata": {},
     "output_type": "execute_result"
    }
   ],
   "source": [
    "type(age)"
   ]
  },
  {
   "cell_type": "code",
   "execution_count": 22,
   "id": "3d57b896",
   "metadata": {},
   "outputs": [],
   "source": [
    "#Task-1\n",
    "##take a input of age\n",
    "##check whether age>=18 and age<=45\n",
    "##display a message you are young blood"
   ]
  },
  {
   "cell_type": "code",
   "execution_count": 29,
   "id": "d05699eb",
   "metadata": {},
   "outputs": [
    {
     "name": "stdout",
     "output_type": "stream",
     "text": [
      "Enter your age:25\n",
      "You are young blood\n"
     ]
    }
   ],
   "source": [
    "age=int(input(\"Enter your age:\"))\n",
    "if age>=18 and age<=45:\n",
    "    print(\"You are young blood\")"
   ]
  },
  {
   "cell_type": "code",
   "execution_count": 30,
   "id": "66f9c110",
   "metadata": {},
   "outputs": [
    {
     "name": "stdout",
     "output_type": "stream",
     "text": [
      "Enter your age:17\n",
      "You are not young blood\n"
     ]
    }
   ],
   "source": [
    "## If else satetement\n",
    "age=int(input(\"Enter your age:\"))\n",
    "if age>=18 and age<=45:\n",
    "    print(\"You are young blood\")\n",
    "else:\n",
    "    print(\"You are not young blood\")\n"
   ]
  },
  {
   "cell_type": "code",
   "execution_count": 31,
   "id": "8e7fd401",
   "metadata": {},
   "outputs": [],
   "source": [
    "##Task2\n",
    "##mall-input product price\n",
    "##product >1000 rs you get 20% off\n",
    "##print the product price after removing the discount\n",
    "##product <1000 rs you get 30% off\n",
    "##print the product price after removing the discount"
   ]
  },
  {
   "cell_type": "code",
   "execution_count": 4,
   "id": "04303161",
   "metadata": {},
   "outputs": [
    {
     "name": "stdout",
     "output_type": "stream",
     "text": [
      "Enter the price of product:1000\n",
      "The price of the product is: 700.0\n"
     ]
    }
   ],
   "source": [
    "product_price=int(input(\"Enter the price of product:\"))\n",
    "if product_price>1000:\n",
    "    print(\"The price of the product is {}\".format(product_price*0.8))\n",
    "else:\n",
    "    print(\"The price of the product is: {}\".format(product_price*0.7))"
   ]
  },
  {
   "cell_type": "code",
   "execution_count": 7,
   "id": "f2b783f5",
   "metadata": {},
   "outputs": [
    {
     "name": "stdout",
     "output_type": "stream",
     "text": [
      "Enter the price of product:100\n",
      "The price of the product is70.0\n"
     ]
    }
   ],
   "source": [
    "## This is in the f-string fromat:\n",
    "product_price=int(input(\"Enter the price of product:\"))\n",
    "if product_price>1000:\n",
    "    print(f\"The price of the product is {product_price*0.8}\")\n",
    "else:\n",
    "    print(\"The price of the product is{}\".format(product_price*0.7))"
   ]
  },
  {
   "cell_type": "code",
   "execution_count": 13,
   "id": "a8c397a9",
   "metadata": {},
   "outputs": [],
   "source": [
    "## If elif statements:\n",
    "\n",
    "##Task3:-\n",
    "##mall-input product price\n",
    "##product >3000 rs you get 20% off\n",
    "##print the product price after removing the discount\n",
    "##product >=2000 rs and<=3000 you get 30% off\n",
    "##print the product price after removing the discount\n",
    "##product <=1000 rs and <=2000 you get 40% off\n",
    "##print the product price after removing the discount"
   ]
  },
  {
   "cell_type": "code",
   "execution_count": 10,
   "id": "e065f281",
   "metadata": {},
   "outputs": [
    {
     "name": "stdout",
     "output_type": "stream",
     "text": [
      "Enter the price of product:800\n",
      "The price of the product is480.0\n"
     ]
    }
   ],
   "source": [
    "product_price=int(input(\"Enter the price of product:\"))\n",
    "if product_price>3000:\n",
    "    print(f\"The price of the product is {product_price*0.8}\")\n",
    "elif product_price>=2000 and product_price<=3000:\n",
    "     print(f\"The price of the product is {product_price*0.7}\")\n",
    "else:\n",
    "    print(\"The price of the product is{}\".format(product_price*0.6))        "
   ]
  },
  {
   "cell_type": "code",
   "execution_count": 12,
   "id": "3622d99b",
   "metadata": {},
   "outputs": [
    {
     "name": "stdout",
     "output_type": "stream",
     "text": [
      "Enter the price of product:55\n",
      "Lets drink tea\n"
     ]
    }
   ],
   "source": [
    "product_price=int(input(\"Enter the price of product:\"))\n",
    "if product_price>3000:\n",
    "    print(f\"The price of the product is {product_price*0.8}\")\n",
    "elif product_price>=2000 and product_price<=3000:\n",
    "     print(f\"The price of the product is {product_price*0.7}\")\n",
    "elif product_price>=100 and product_price<=2000:\n",
    "    print(f\"The price of the product is{product_price*0.6}\")\n",
    "else:\n",
    "    print(\"Lets drink tea\")"
   ]
  },
  {
   "cell_type": "code",
   "execution_count": 14,
   "id": "c0a970ae",
   "metadata": {},
   "outputs": [],
   "source": [
    "## Nested if statement:\n",
    "\n",
    "## Task4:-\n",
    "## mall-input product price\n",
    "## product >3000 rs you get 20% off\n",
    "## print the product price after removing the discount\n",
    "## product >=2000 rs and<=3000 you get 30% off\n",
    "## print the product price after removing the discount\n",
    "## price ==2999 you will get aditional gift\n",
    "## product <=1000 rs and <=2000 you get 40% off\n",
    "## print the product price after removing the discount\n"
   ]
  },
  {
   "cell_type": "code",
   "execution_count": 15,
   "id": "051b36c7",
   "metadata": {},
   "outputs": [
    {
     "name": "stdout",
     "output_type": "stream",
     "text": [
      "Enter the price of product:2999\n",
      "Congratulation you get an aditional gift:\n",
      "The price of the product is 2099.2999999999997\n"
     ]
    }
   ],
   "source": [
    "product_price=int(input(\"Enter the price of product:\"))\n",
    "if product_price>3000:\n",
    "    print(f\"The price of the product is {product_price*0.8}\")\n",
    "elif product_price>=2000 and product_price<=3000:\n",
    "    if product_price==2999:\n",
    "        print(\"Congratulation you get an aditional gift:\")\n",
    "    print(f\"The price of the product is {product_price*0.7}\")\n",
    "elif product_price>=100 and product_price<=2000:\n",
    "    print(f\"The price of the product is{product_price*0.6}\")\n",
    "else:\n",
    "    print(\"Lets drink tea\")"
   ]
  },
  {
   "cell_type": "code",
   "execution_count": 16,
   "id": "59330b0a",
   "metadata": {},
   "outputs": [],
   "source": [
    "## Task5:-\n",
    "## mall-input product price\n",
    "## product >3000 rs you get 20% off\n",
    "## price is ==4000 you get a trip of goa\n",
    "## print the product price after removing the discount\n",
    "## product >=2000 rs and<=3000 you get 30% off\n",
    "## print the product price after removing the discount\n",
    "## price ==2999 you will get aditional gift\n",
    "## product <=1000 rs and <=2000 you get 40% off\n",
    "## print the product price after removing the discount\n"
   ]
  },
  {
   "cell_type": "code",
   "execution_count": 17,
   "id": "8dcb3bda",
   "metadata": {},
   "outputs": [
    {
     "name": "stdout",
     "output_type": "stream",
     "text": [
      "Enter the price of product:4000\n",
      "Congratulations you got a trip of goa\n",
      "The price of the product is 3200.0\n"
     ]
    }
   ],
   "source": [
    "product_price=int(input(\"Enter the price of product:\"))\n",
    "if product_price>3000:\n",
    "    if product_price==4000:\n",
    "        print(\"Congratulations you got a trip of goa\")\n",
    "    print(f\"The price of the product is {product_price*0.8}\")\n",
    "elif product_price>=2000 and product_price<=3000:\n",
    "    if product_price==2999:\n",
    "        print(\"Congratulation you get an aditional gift:\")\n",
    "    print(f\"The price of the product is {product_price*0.7}\")\n",
    "elif product_price>=100 and product_price<=2000:\n",
    "    print(f\"The price of the product is{product_price*0.6}\")\n",
    "else:\n",
    "    print(\"Lets drink tea\")"
   ]
  },
  {
   "cell_type": "code",
   "execution_count": 18,
   "id": "972f2d1a",
   "metadata": {},
   "outputs": [],
   "source": [
    "## Singal statement:"
   ]
  },
  {
   "cell_type": "code",
   "execution_count": 22,
   "id": "0ed91322",
   "metadata": {},
   "outputs": [
    {
     "name": "stdout",
     "output_type": "stream",
     "text": [
      "Enter a number:1000\n",
      "Go Home\n"
     ]
    }
   ],
   "source": [
    "val=int(input(\"Enter a number:\"))\n",
    "if(val<=999):print(\"Value is less than equal to 999\")\n",
    "else:\n",
    "    print(\"Go Home\")"
   ]
  },
  {
   "cell_type": "markdown",
   "id": "1f54cd75",
   "metadata": {},
   "source": [
    "## Loops Statement:\n",
    "### 1.while loop\n",
    "### 2.for loop\n",
    "### 3.nested loops\n",
    "### 4.Loop control(break,continue,pass)\n"
   ]
  },
  {
   "cell_type": "code",
   "execution_count": 1,
   "id": "94f489cb",
   "metadata": {},
   "outputs": [
    {
     "name": "stdout",
     "output_type": "stream",
     "text": [
      "25\n",
      "26\n",
      "27\n",
      "28\n",
      "29\n",
      "30\n",
      "31\n",
      "32\n",
      "33\n",
      "34\n",
      "35\n",
      "36\n",
      "37\n",
      "38\n",
      "39\n",
      "40\n",
      "41\n",
      "42\n",
      "43\n",
      "44\n",
      "45\n",
      "46\n",
      "47\n",
      "48\n",
      "49\n",
      "50\n",
      "51\n",
      "52\n",
      "53\n",
      "54\n",
      "55\n",
      "56\n",
      "57\n",
      "58\n",
      "59\n",
      "60\n",
      "Its time for retirement\n"
     ]
    }
   ],
   "source": [
    "## while loop while-else\n",
    "joining_age=25\n",
    "while joining_age<=60:\n",
    "    print(joining_age)\n",
    "    joining_age=joining_age+1\n",
    "else:\n",
    "    print(\"Its time for retirement\")"
   ]
  },
  {
   "cell_type": "code",
   "execution_count": 2,
   "id": "e8d246cc",
   "metadata": {},
   "outputs": [
    {
     "name": "stdout",
     "output_type": "stream",
     "text": [
      "1000\n",
      "900\n",
      "800\n",
      "700\n",
      "600\n",
      "500\n",
      "400\n",
      "300\n",
      "200\n",
      "100\n",
      "put more money bank people\n"
     ]
    }
   ],
   "source": [
    "### Atm machine with 1000 rs\n",
    "total_amount=1000\n",
    "while total_amount!=0:\n",
    "    print(total_amount)\n",
    "    total_amount=total_amount-100\n",
    "else:\n",
    "    print(\"put more money bank people\")"
   ]
  },
  {
   "cell_type": "markdown",
   "id": "3a0c3d95",
   "metadata": {},
   "source": [
    "## For loop"
   ]
  },
  {
   "cell_type": "code",
   "execution_count": 5,
   "id": "1ad17681",
   "metadata": {},
   "outputs": [],
   "source": [
    "lst=[\"Abhi\",1,2,3,4,\"apple\",\"banana\"]"
   ]
  },
  {
   "cell_type": "code",
   "execution_count": 6,
   "id": "ecb4efbd",
   "metadata": {},
   "outputs": [
    {
     "data": {
      "text/plain": [
       "list"
      ]
     },
     "execution_count": 6,
     "metadata": {},
     "output_type": "execute_result"
    }
   ],
   "source": [
    "type(lst)"
   ]
  },
  {
   "cell_type": "code",
   "execution_count": 7,
   "id": "4f4a0344",
   "metadata": {},
   "outputs": [
    {
     "data": {
      "text/plain": [
       "'Abhi'"
      ]
     },
     "execution_count": 7,
     "metadata": {},
     "output_type": "execute_result"
    }
   ],
   "source": [
    "lst[0]"
   ]
  },
  {
   "cell_type": "code",
   "execution_count": 8,
   "id": "92ce722d",
   "metadata": {},
   "outputs": [
    {
     "name": "stdout",
     "output_type": "stream",
     "text": [
      "Abhi\n",
      "1\n",
      "2\n",
      "3\n",
      "4\n",
      "apple\n",
      "banana\n"
     ]
    }
   ],
   "source": [
    "for x in lst:\n",
    "    print(x)"
   ]
  },
  {
   "cell_type": "code",
   "execution_count": 9,
   "id": "3c07d085",
   "metadata": {},
   "outputs": [],
   "source": [
    "fruits_list=[\"Mango\",\"Cherry\",\"Apple\",\"Banana\",\"Papaya\"]"
   ]
  },
  {
   "cell_type": "code",
   "execution_count": 10,
   "id": "d5cddc42",
   "metadata": {},
   "outputs": [
    {
     "name": "stdout",
     "output_type": "stream",
     "text": [
      "Mango\n",
      "Cherry\n",
      "the friut is Cherry\n",
      "Apple\n",
      "Banana\n",
      "Papaya\n"
     ]
    }
   ],
   "source": [
    "for a in fruits_list:\n",
    "    print(a)\n",
    "    if a==\"Cherry\":\n",
    "        print(\"the friut is Cherry\")"
   ]
  },
  {
   "cell_type": "code",
   "execution_count": 11,
   "id": "130fc2fd",
   "metadata": {},
   "outputs": [
    {
     "name": "stdout",
     "output_type": "stream",
     "text": [
      "M\n",
      "a\n",
      "n\n",
      "g\n",
      "o\n"
     ]
    }
   ],
   "source": [
    "fruit='Mango'\n",
    "for x in fruit:\n",
    "    print(x)"
   ]
  },
  {
   "cell_type": "code",
   "execution_count": 12,
   "id": "4c1d5e55",
   "metadata": {},
   "outputs": [
    {
     "data": {
      "text/plain": [
       "'a'"
      ]
     },
     "execution_count": 12,
     "metadata": {},
     "output_type": "execute_result"
    }
   ],
   "source": [
    "fruit[1]"
   ]
  },
  {
   "cell_type": "code",
   "execution_count": 13,
   "id": "75d3c902",
   "metadata": {},
   "outputs": [
    {
     "name": "stdout",
     "output_type": "stream",
     "text": [
      "Mango"
     ]
    }
   ],
   "source": [
    "fruit='Mango'\n",
    "for x in fruit:\n",
    "    print(x,end='')"
   ]
  },
  {
   "cell_type": "code",
   "execution_count": 15,
   "id": "f256b545",
   "metadata": {},
   "outputs": [
    {
     "name": "stdout",
     "output_type": "stream",
     "text": [
      "1\n",
      "2\n",
      "3\n",
      "4\n",
      "5\n",
      "6\n",
      "7\n",
      "8\n",
      "9\n"
     ]
    }
   ],
   "source": [
    "### Range\n",
    "for i in range(1,10):\n",
    "    print(i)"
   ]
  },
  {
   "cell_type": "code",
   "execution_count": 16,
   "id": "9008dc7e",
   "metadata": {},
   "outputs": [
    {
     "name": "stdout",
     "output_type": "stream",
     "text": [
      "1\n",
      "3\n",
      "5\n",
      "7\n",
      "9\n"
     ]
    }
   ],
   "source": [
    "for i in range(1,10,2):\n",
    "    print(i)"
   ]
  },
  {
   "cell_type": "code",
   "execution_count": 18,
   "id": "6158c6d4",
   "metadata": {},
   "outputs": [
    {
     "name": "stdout",
     "output_type": "stream",
     "text": [
      "*\r\n",
      "**\r\n",
      "***\r\n",
      "****\r\n",
      "*****\r\n",
      "******\r\n",
      "*******\r\n"
     ]
    }
   ],
   "source": [
    "### Nested Loops\n",
    "n=7\n",
    "\n",
    "for i in range(0,n):\n",
    "    for j in range(0,i+1):\n",
    "        print(\"*\",end=\"\")\n",
    "    print(\"\\r\")    \n"
   ]
  },
  {
   "cell_type": "markdown",
   "id": "3ece687c",
   "metadata": {},
   "source": [
    "### Assignment :\n",
    "#### To print Equilateral triangle(Pyramid)star pattern?"
   ]
  },
  {
   "cell_type": "code",
   "execution_count": 20,
   "id": "c380704a",
   "metadata": {},
   "outputs": [
    {
     "name": "stdout",
     "output_type": "stream",
     "text": [
      "        * \n",
      "      * * * \n",
      "    * * * * * \n",
      "  * * * * * * * \n",
      "* * * * * * * * * \n"
     ]
    }
   ],
   "source": [
    "n=5\n",
    "for i in range(n):\n",
    "    for j in range(n-i-1):\n",
    "        print(' ',end=' ')\n",
    "    for k in range(2*i+1):\n",
    "        print(\"*\",end=' ')\n",
    "    print()    \n",
    "        "
   ]
  },
  {
   "cell_type": "code",
   "execution_count": 21,
   "id": "ac119ce9",
   "metadata": {},
   "outputs": [],
   "source": [
    "## Loop controls\n",
    "## Break and Continue and Pass\n",
    "fruit_list = [\"Mango\",\"Cherry\",\"Apple\",\"Banana\",\"Papaya\"]"
   ]
  },
  {
   "cell_type": "code",
   "execution_count": 23,
   "id": "ed0eaff8",
   "metadata": {},
   "outputs": [
    {
     "name": "stdout",
     "output_type": "stream",
     "text": [
      "Mango\n",
      "Cherry\n",
      "The fruit is Apple\n"
     ]
    }
   ],
   "source": [
    "## Break\n",
    "for i in fruit_list:\n",
    "    if i==\"Apple\":\n",
    "        print(\"The fruit is Apple\")\n",
    "        break\n",
    "    print(i)   \n",
    "    "
   ]
  },
  {
   "cell_type": "code",
   "execution_count": 24,
   "id": "cf2bb595",
   "metadata": {},
   "outputs": [
    {
     "name": "stdout",
     "output_type": "stream",
     "text": [
      "Mango\n",
      "Cherry\n",
      "The fruit is Apple\n",
      "Apple\n",
      "Banana\n",
      "Papaya\n"
     ]
    }
   ],
   "source": [
    "## Pass\n",
    "for i in fruit_list:\n",
    "    if i==\"Apple\":\n",
    "        print(\"The fruit is Apple\")\n",
    "        pass\n",
    "    print(i)  "
   ]
  },
  {
   "cell_type": "code",
   "execution_count": 25,
   "id": "39cc8c2b",
   "metadata": {},
   "outputs": [
    {
     "name": "stdout",
     "output_type": "stream",
     "text": [
      "Mango\n",
      "Cherry\n",
      "The fruit is Apple\n",
      "Banana\n",
      "Papaya\n"
     ]
    }
   ],
   "source": [
    "## Continue\n",
    "for i in fruit_list:\n",
    "    if i==\"Apple\":\n",
    "        print(\"The fruit is Apple\")\n",
    "        continue\n",
    "    print(i)  "
   ]
  },
  {
   "cell_type": "markdown",
   "id": "1f978735",
   "metadata": {},
   "source": [
    "## Logical Operators\n",
    "###### 1.and\n",
    "###### 2.or\n",
    "###### 3.not"
   ]
  },
  {
   "cell_type": "code",
   "execution_count": 1,
   "id": "0f5427d6",
   "metadata": {},
   "outputs": [
    {
     "data": {
      "text/plain": [
       "True"
      ]
     },
     "execution_count": 1,
     "metadata": {},
     "output_type": "execute_result"
    }
   ],
   "source": [
    "True and True"
   ]
  },
  {
   "cell_type": "code",
   "execution_count": 12,
   "id": "c1076ed0",
   "metadata": {},
   "outputs": [
    {
     "name": "stdout",
     "output_type": "stream",
     "text": [
      "Defined value of START = True\n",
      "Define value of STOP = False\n",
      "\n",
      "Defined value of START = True\n",
      "Value of STOP by negation START = False\n",
      "\n",
      "Value of START by negation STOP = True\n",
      "Defined value of STOP = False\n",
      "\n"
     ]
    }
   ],
   "source": [
    "## lets define two variables having boolean values True and False:\n",
    "START = True\n",
    "STOP = False\n",
    "\n",
    "# Print the value as it is\n",
    "print(f\"Defined value of START = {START}\")\n",
    "print(f\"Define value of STOP = {STOP}\\n\")\n",
    "\n",
    "# if can aslo be written as-\n",
    "print(f\"Defined value of START = {START}\")\n",
    "print(f\"Value of STOP by negation START = {not START}\\n\")\n",
    "\n",
    "# alternatively -\n",
    "print(f\"Value of START by negation STOP = {not STOP}\")\n",
    "print(f\"Defined value of STOP = {STOP}\\n\")"
   ]
  },
  {
   "cell_type": "code",
   "execution_count": 3,
   "id": "0a42dade",
   "metadata": {},
   "outputs": [
    {
     "data": {
      "text/plain": [
       "False"
      ]
     },
     "execution_count": 3,
     "metadata": {},
     "output_type": "execute_result"
    }
   ],
   "source": [
    "not True"
   ]
  },
  {
   "cell_type": "code",
   "execution_count": 4,
   "id": "7ee0a57d",
   "metadata": {},
   "outputs": [
    {
     "data": {
      "text/plain": [
       "True"
      ]
     },
     "execution_count": 4,
     "metadata": {},
     "output_type": "execute_result"
    }
   ],
   "source": [
    "not int(bool(0))"
   ]
  },
  {
   "cell_type": "code",
   "execution_count": 5,
   "id": "fc480bb4",
   "metadata": {},
   "outputs": [
    {
     "data": {
      "text/plain": [
       "True"
      ]
     },
     "execution_count": 5,
     "metadata": {},
     "output_type": "execute_result"
    }
   ],
   "source": [
    "bool(1)"
   ]
  },
  {
   "cell_type": "code",
   "execution_count": 6,
   "id": "2b4b5978",
   "metadata": {},
   "outputs": [
    {
     "data": {
      "text/plain": [
       "False"
      ]
     },
     "execution_count": 6,
     "metadata": {},
     "output_type": "execute_result"
    }
   ],
   "source": [
    "not int(bool(1))"
   ]
  },
  {
   "cell_type": "code",
   "execution_count": 7,
   "id": "e05f5483",
   "metadata": {},
   "outputs": [
    {
     "data": {
      "text/plain": [
       "False"
      ]
     },
     "execution_count": 7,
     "metadata": {},
     "output_type": "execute_result"
    }
   ],
   "source": [
    "not 1"
   ]
  },
  {
   "cell_type": "code",
   "execution_count": 8,
   "id": "58630d39",
   "metadata": {},
   "outputs": [
    {
     "data": {
      "text/plain": [
       "True"
      ]
     },
     "execution_count": 8,
     "metadata": {},
     "output_type": "execute_result"
    }
   ],
   "source": [
    "not 0"
   ]
  },
  {
   "cell_type": "code",
   "execution_count": 13,
   "id": "076ffced",
   "metadata": {},
   "outputs": [
    {
     "name": "stdout",
     "output_type": "stream",
     "text": [
      "Defined value of START = 1\n",
      "Define value of STOP = 0\n",
      "\n",
      "Defined value of START = 1\n",
      "Value of STOP by negation START = 0\n",
      "\n",
      "Value of START by negation STOP = 1\n",
      "Defined value of STOP = 0\n",
      "\n"
     ]
    }
   ],
   "source": [
    "START = 1\n",
    "STOP = 0\n",
    "\n",
    "# Print the value as it is\n",
    "print(f\"Defined value of START = {START}\")\n",
    "print(f\"Define value of STOP = {STOP}\\n\")\n",
    "\n",
    "# if can aslo be written as-\n",
    "print(f\"Defined value of START = {START}\")\n",
    "print(f\"Value of STOP by negation START = {int(not START)}\\n\")\n",
    "\n",
    "# alternatively -\n",
    "print(f\"Value of START by negation STOP = {int(not STOP)}\")\n",
    "print(f\"Defined value of STOP = {STOP}\\n\")"
   ]
  },
  {
   "cell_type": "code",
   "execution_count": 14,
   "id": "3536ec7a",
   "metadata": {},
   "outputs": [
    {
     "name": "stdout",
     "output_type": "stream",
     "text": [
      "boolean value of no. 0 is False\n",
      "bolean value of no. 1 is True\n",
      "negation of 0 is True and negation of 1 is False\n",
      "\n",
      "#-----------------#\n",
      "\n"
     ]
    }
   ],
   "source": [
    "Zero = 0\n",
    "One = 1\n",
    "\n",
    "print(f\"boolean value of no. {Zero} is {bool(Zero)}\")\n",
    "print(f\"bolean value of no. {One} is {bool(One)}\")\n",
    "print(f\"negation of {Zero} is {not Zero} and negation of {One} is {not One}\")\n",
    "print(\"\\n#-----------------#\\n\")"
   ]
  },
  {
   "cell_type": "code",
   "execution_count": 16,
   "id": "478a5950",
   "metadata": {},
   "outputs": [
    {
     "name": "stdout",
     "output_type": "stream",
     "text": [
      "boolean value of no. -5 is True\n",
      "boolean value of no. 5 is True\n",
      "negation of -5 is False and negation of 5 is False\n",
      "\n",
      "#$*--------------#$*\n",
      "\n"
     ]
    }
   ],
   "source": [
    "some_negative_integer = -5\n",
    "some_positive_integer = 5\n",
    "\n",
    "print(f\"boolean value of no. {some_negative_integer} is {bool(some_negative_integer)}\")\n",
    "print(f\"boolean value of no. {some_positive_integer} is {bool(some_positive_integer)}\")\n",
    "print(f\"negation of {some_negative_integer} is {not some_negative_integer}\\\n",
    " and negation of {some_positive_integer} is {not some_positive_integer}\")\n",
    "\n",
    "print(\"\\n#$*--------------#$*\\n\")"
   ]
  },
  {
   "cell_type": "markdown",
   "id": "b4283975",
   "metadata": {},
   "source": [
    "### Logical And"
   ]
  },
  {
   "cell_type": "code",
   "execution_count": 17,
   "id": "2d0b21d6",
   "metadata": {},
   "outputs": [
    {
     "name": "stdout",
     "output_type": "stream",
     "text": [
      "Dish contains VEGETABLES: True\n",
      "Dish contains SALT: False\n",
      "Hence dish prepared was good: False\n"
     ]
    }
   ],
   "source": [
    "VEGETABLES = True\n",
    "SALT = False\n",
    "DISH = VEGETABLES and SALT\n",
    "\n",
    "print(f\"Dish contains VEGETABLES: {VEGETABLES}\")\n",
    "print(f\"Dish contains SALT: {SALT}\")\n",
    "print(f\"Hence dish prepared was good: {DISH}\")"
   ]
  },
  {
   "cell_type": "code",
   "execution_count": 18,
   "id": "4c9d8f62",
   "metadata": {},
   "outputs": [
    {
     "data": {
      "text/plain": [
       "0"
      ]
     },
     "execution_count": 18,
     "metadata": {},
     "output_type": "execute_result"
    }
   ],
   "source": [
    "True*False"
   ]
  },
  {
   "cell_type": "code",
   "execution_count": 19,
   "id": "3ad5a242",
   "metadata": {},
   "outputs": [
    {
     "data": {
      "text/plain": [
       "True"
      ]
     },
     "execution_count": 19,
     "metadata": {},
     "output_type": "execute_result"
    }
   ],
   "source": [
    "not(True)*False"
   ]
  },
  {
   "cell_type": "code",
   "execution_count": 21,
   "id": "8d55f76f",
   "metadata": {},
   "outputs": [
    {
     "data": {
      "text/plain": [
       "0"
      ]
     },
     "execution_count": 21,
     "metadata": {},
     "output_type": "execute_result"
    }
   ],
   "source": [
    "False * (not(False))"
   ]
  },
  {
   "cell_type": "code",
   "execution_count": 22,
   "id": "39d2e89a",
   "metadata": {},
   "outputs": [
    {
     "data": {
      "text/plain": [
       "0"
      ]
     },
     "execution_count": 22,
     "metadata": {},
     "output_type": "execute_result"
    }
   ],
   "source": [
    "(not(True))*False"
   ]
  },
  {
   "cell_type": "code",
   "execution_count": 23,
   "id": "e926d25c",
   "metadata": {},
   "outputs": [
    {
     "data": {
      "text/plain": [
       "0"
      ]
     },
     "execution_count": 23,
     "metadata": {},
     "output_type": "execute_result"
    }
   ],
   "source": [
    "False * False"
   ]
  },
  {
   "cell_type": "code",
   "execution_count": 24,
   "id": "a2478b25",
   "metadata": {},
   "outputs": [
    {
     "data": {
      "text/plain": [
       "True"
      ]
     },
     "execution_count": 24,
     "metadata": {},
     "output_type": "execute_result"
    }
   ],
   "source": [
    "not(False)*False"
   ]
  },
  {
   "cell_type": "code",
   "execution_count": 25,
   "id": "10806cff",
   "metadata": {},
   "outputs": [
    {
     "data": {
      "text/plain": [
       "0"
      ]
     },
     "execution_count": 25,
     "metadata": {},
     "output_type": "execute_result"
    }
   ],
   "source": [
    "(not (False))*False"
   ]
  },
  {
   "cell_type": "code",
   "execution_count": 26,
   "id": "7fd4e058",
   "metadata": {},
   "outputs": [
    {
     "data": {
      "text/plain": [
       "True"
      ]
     },
     "execution_count": 26,
     "metadata": {},
     "output_type": "execute_result"
    }
   ],
   "source": [
    "not (False)*False==True"
   ]
  },
  {
   "cell_type": "code",
   "execution_count": 27,
   "id": "48e0e5fc",
   "metadata": {},
   "outputs": [
    {
     "name": "stdout",
     "output_type": "stream",
     "text": [
      "True\n"
     ]
    }
   ],
   "source": [
    "print(not(False)*False)"
   ]
  },
  {
   "cell_type": "code",
   "execution_count": 28,
   "id": "7049066e",
   "metadata": {},
   "outputs": [
    {
     "name": "stdout",
     "output_type": "stream",
     "text": [
      "0\n"
     ]
    }
   ],
   "source": [
    "print((not(False))*False)"
   ]
  },
  {
   "cell_type": "markdown",
   "id": "bc62bc38",
   "metadata": {},
   "source": [
    "### Equality Operators\n",
    "\n",
    "\n",
    "Following operation are present in python for equlity operation-\n",
    "\n",
    "|Operators|Meaning|\n",
    "|-|-|\n",
    "|**is**|***a is b*** returns true if variable/identifiers a and b *points* to the *same object*|\n",
    "|**is not**|***a is not b*** returns true if variable/identifiers a and b *points* to the *different object*|\n",
    "|**==**|***a == b*** returns true if variable/identifiers a and b has same value|\n",
    "|**!=**|***a != b*** returns true if variable/identifiers a and b has different value|"
   ]
  },
  {
   "cell_type": "code",
   "execution_count": 29,
   "id": "db84bd24",
   "metadata": {},
   "outputs": [],
   "source": [
    "### is ###\n",
    "lst_a=[1,2,3,4]\n",
    "lst_b=[1,2,3,4]\n",
    "\n"
   ]
  },
  {
   "cell_type": "code",
   "execution_count": 31,
   "id": "4d625eb1",
   "metadata": {},
   "outputs": [
    {
     "name": "stdout",
     "output_type": "stream",
     "text": [
      "1535600063744\n",
      "1535600013632\n"
     ]
    }
   ],
   "source": [
    "# To check memory adderess we use **id()**:\n",
    "print(id(lst_a))\n",
    "print(id(lst_b))"
   ]
  },
  {
   "cell_type": "code",
   "execution_count": 32,
   "id": "a68cd73b",
   "metadata": {},
   "outputs": [
    {
     "data": {
      "text/plain": [
       "False"
      ]
     },
     "execution_count": 32,
     "metadata": {},
     "output_type": "execute_result"
    }
   ],
   "source": [
    "lst_a is lst_b"
   ]
  },
  {
   "cell_type": "code",
   "execution_count": 33,
   "id": "5666e1ab",
   "metadata": {},
   "outputs": [],
   "source": [
    "lst_a=[1,2,3,4]\n",
    "lst_b=lst_a"
   ]
  },
  {
   "cell_type": "code",
   "execution_count": 34,
   "id": "12392d64",
   "metadata": {},
   "outputs": [
    {
     "name": "stdout",
     "output_type": "stream",
     "text": [
      "1535628319040\n",
      "1535628319040\n"
     ]
    }
   ],
   "source": [
    "print(id(lst_a))\n",
    "print(id(lst_b))"
   ]
  },
  {
   "cell_type": "code",
   "execution_count": 35,
   "id": "8b964692",
   "metadata": {},
   "outputs": [
    {
     "data": {
      "text/plain": [
       "True"
      ]
     },
     "execution_count": 35,
     "metadata": {},
     "output_type": "execute_result"
    }
   ],
   "source": [
    "lst_a is lst_b"
   ]
  },
  {
   "cell_type": "code",
   "execution_count": 37,
   "id": "35b9d33c",
   "metadata": {},
   "outputs": [
    {
     "data": {
      "text/plain": [
       "True"
      ]
     },
     "execution_count": 37,
     "metadata": {},
     "output_type": "execute_result"
    }
   ],
   "source": [
    "### is not ####\n",
    "lst_a=[1,2,3,4]\n",
    "lst_b=[1,2,3,4]\n",
    "\n",
    "lst_a is not lst_b"
   ]
  },
  {
   "cell_type": "code",
   "execution_count": 38,
   "id": "3fc8cea7",
   "metadata": {},
   "outputs": [
    {
     "data": {
      "text/plain": [
       "True"
      ]
     },
     "execution_count": 38,
     "metadata": {},
     "output_type": "execute_result"
    }
   ],
   "source": [
    "lst_a == lst_b"
   ]
  },
  {
   "cell_type": "code",
   "execution_count": 39,
   "id": "1aa9de94",
   "metadata": {},
   "outputs": [],
   "source": [
    "## Comparison operation"
   ]
  },
  {
   "cell_type": "code",
   "execution_count": 41,
   "id": "873f341f",
   "metadata": {},
   "outputs": [],
   "source": [
    "# opertaion                 #meaning\n",
    "##   <                       less then\n",
    "##   <=                      less then or equal to\n",
    "##   >                       greater than\n",
    "##   >=                      greater than or equal to"
   ]
  },
  {
   "cell_type": "code",
   "execution_count": 43,
   "id": "f46daa25",
   "metadata": {},
   "outputs": [
    {
     "name": "stdout",
     "output_type": "stream",
     "text": [
      "bike is faster then car: False\n"
     ]
    }
   ],
   "source": [
    "max_speed_of_bike = 150\n",
    "max_speed_of_car = 200\n",
    "\n",
    "print(f\"bike is faster then car: {max_speed_of_bike > max_speed_of_car}\")"
   ]
  },
  {
   "cell_type": "code",
   "execution_count": 44,
   "id": "1832acdc",
   "metadata": {},
   "outputs": [
    {
     "name": "stdout",
     "output_type": "stream",
     "text": [
      "bike is faster then car: True\n"
     ]
    }
   ],
   "source": [
    "max_speed_of_bike = 150\n",
    "max_speed_of_car = 200\n",
    "\n",
    "print(f\"bike is faster then car: {max_speed_of_bike < max_speed_of_car}\")"
   ]
  },
  {
   "cell_type": "code",
   "execution_count": 45,
   "id": "ff3011af",
   "metadata": {},
   "outputs": [
    {
     "name": "stdout",
     "output_type": "stream",
     "text": [
      "bike is faster then car: True\n"
     ]
    }
   ],
   "source": [
    "max_speed_of_bike = 200\n",
    "max_speed_of_car = 200\n",
    "\n",
    "print(f\"bike is faster then car: {max_speed_of_bike >= max_speed_of_car}\")"
   ]
  },
  {
   "cell_type": "code",
   "execution_count": 46,
   "id": "9d9aa30a",
   "metadata": {},
   "outputs": [
    {
     "name": "stdout",
     "output_type": "stream",
     "text": [
      "bike is faster then car: True\n"
     ]
    }
   ],
   "source": [
    "max_speed_of_bike = 150\n",
    "max_speed_of_car = 200\n",
    "\n",
    "print(f\"bike is faster then car: {max_speed_of_bike <= max_speed_of_car}\")"
   ]
  },
  {
   "cell_type": "markdown",
   "id": "f4e8867d",
   "metadata": {},
   "source": [
    "#### Arithmethic OPeration\n",
    "|Operation|Meaning|\n",
    "|:-:|:-:|\n",
    "| **+**|addition|\n",
    "| **-**|subtraction|\n",
    "| **\\**|multiplication|\n",
    "|**/**|true division|\n",
    "|**//**|integer division|\n",
    "|**%**|the modulo operator|"
   ]
  },
  {
   "cell_type": "code",
   "execution_count": 47,
   "id": "a299a58b",
   "metadata": {},
   "outputs": [],
   "source": [
    "a=25 \n",
    "b=101"
   ]
  },
  {
   "cell_type": "code",
   "execution_count": 48,
   "id": "636dc51f",
   "metadata": {},
   "outputs": [
    {
     "data": {
      "text/plain": [
       "126"
      ]
     },
     "execution_count": 48,
     "metadata": {},
     "output_type": "execute_result"
    }
   ],
   "source": [
    "a+b"
   ]
  },
  {
   "cell_type": "code",
   "execution_count": 49,
   "id": "931563ca",
   "metadata": {},
   "outputs": [
    {
     "data": {
      "text/plain": [
       "-76"
      ]
     },
     "execution_count": 49,
     "metadata": {},
     "output_type": "execute_result"
    }
   ],
   "source": [
    "a-b"
   ]
  },
  {
   "cell_type": "code",
   "execution_count": 53,
   "id": "6ecff284",
   "metadata": {},
   "outputs": [
    {
     "data": {
      "text/plain": [
       "0.24752475247524752"
      ]
     },
     "execution_count": 53,
     "metadata": {},
     "output_type": "execute_result"
    }
   ],
   "source": [
    "a/b"
   ]
  },
  {
   "cell_type": "code",
   "execution_count": 54,
   "id": "22babb98",
   "metadata": {},
   "outputs": [
    {
     "data": {
      "text/plain": [
       "0"
      ]
     },
     "execution_count": 54,
     "metadata": {},
     "output_type": "execute_result"
    }
   ],
   "source": [
    "a//b"
   ]
  },
  {
   "cell_type": "code",
   "execution_count": 55,
   "id": "41a0dd6a",
   "metadata": {},
   "outputs": [
    {
     "data": {
      "text/plain": [
       "25"
      ]
     },
     "execution_count": 55,
     "metadata": {},
     "output_type": "execute_result"
    }
   ],
   "source": [
    "a%b"
   ]
  },
  {
   "cell_type": "code",
   "execution_count": 56,
   "id": "9bcf69e1",
   "metadata": {},
   "outputs": [
    {
     "data": {
      "text/plain": [
       "1"
      ]
     },
     "execution_count": 56,
     "metadata": {},
     "output_type": "execute_result"
    }
   ],
   "source": [
    "b%a"
   ]
  },
  {
   "cell_type": "markdown",
   "id": "4a082448",
   "metadata": {},
   "source": [
    "### Bitwise Operation\n",
    "\n",
    "|Operation|Meaning|\n",
    "|:-:|:-:|\n",
    "| **~** |bitwise complement (prefix unary operator)|\n",
    "| **&** |bitwise and|\n",
    "| **\\|** |bitwise or|\n",
    "| **^** |bitwise exclusive-or|\n",
    "| **<<** |shift bits left,filling in with zero|\n",
    "| **>>** |shift bits right,filling in with sign bit|"
   ]
  },
  {
   "cell_type": "code",
   "execution_count": 1,
   "id": "b5182cac",
   "metadata": {},
   "outputs": [
    {
     "data": {
      "text/plain": [
       "'0b1010'"
      ]
     },
     "execution_count": 1,
     "metadata": {},
     "output_type": "execute_result"
    }
   ],
   "source": [
    "var=10\n",
    "bin(var)"
   ]
  },
  {
   "cell_type": "code",
   "execution_count": 3,
   "id": "73e713b1",
   "metadata": {},
   "outputs": [
    {
     "data": {
      "text/plain": [
       "-11"
      ]
     },
     "execution_count": 3,
     "metadata": {},
     "output_type": "execute_result"
    }
   ],
   "source": [
    "~var"
   ]
  },
  {
   "cell_type": "code",
   "execution_count": null,
   "id": "d4e825ca",
   "metadata": {},
   "outputs": [],
   "source": []
  }
 ],
 "metadata": {
  "kernelspec": {
   "display_name": "Python 3 (ipykernel)",
   "language": "python",
   "name": "python3"
  },
  "language_info": {
   "codemirror_mode": {
    "name": "ipython",
    "version": 3
   },
   "file_extension": ".py",
   "mimetype": "text/x-python",
   "name": "python",
   "nbconvert_exporter": "python",
   "pygments_lexer": "ipython3",
   "version": "3.9.12"
  }
 },
 "nbformat": 4,
 "nbformat_minor": 5
}
